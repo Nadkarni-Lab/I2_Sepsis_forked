{
 "cells": [
  {
   "cell_type": "code",
   "execution_count": null,
   "metadata": {},
   "outputs": [],
   "source": [
    "import pandas as pd\n",
    "pd.set_option('display.max_rows', 100)\n",
    "pd.set_option('display.max_columns', 500)\n",
    "\n",
    "pd.set_option('display.width', 1000)\n",
    "import numpy as np\n",
    "import time\n",
    "import datetime\n",
    "import i2bmi\n",
    "import pickle\n",
    "from pandas.core.tools.datetimes import _guess_datetime_format_for_array\n",
    "from pandas.plotting import register_matplotlib_converters\n",
    "register_matplotlib_converters()\n",
    "import warnings\n",
    "import itertools\n",
    "from itertools import product\n",
    "\n",
    "\n",
    "import os\n",
    "import pandasql as ps\n",
    "\n",
    "import gc\n",
    "import matplotlib.pyplot as plt\n",
    "from matplotlib_venn import venn2,venn3\n",
    "import upsetplot\n",
    "\n",
    "\n",
    "from scipy import stats\n",
    "\n",
    "import seaborn as sns\n",
    "import kaleido\n",
    "import plotly.graph_objects as go\n",
    "\n",
    "\n",
    "from sklearn.preprocessing import StandardScaler\n",
    "from sklearn.pipeline import make_pipeline\n",
    "from sklearn.linear_model import LogisticRegression\n",
    "from sklearn.model_selection import train_test_split\n",
    "\n",
    "\n",
    "i2bmi.jupyter_widen()"
   ]
  },
  {
   "cell_type": "code",
   "execution_count": null,
   "metadata": {},
   "outputs": [],
   "source": [
    "#import I2 Sepsis Functions\n",
    "import I2_Sepsis"
   ]
  },
  {
   "cell_type": "code",
   "execution_count": null,
   "metadata": {},
   "outputs": [],
   "source": []
  },
  {
   "cell_type": "code",
   "execution_count": null,
   "metadata": {},
   "outputs": [],
   "source": [
    "from sqlalchemy import create_engine\n",
    "# Postgres username, password, and database name\n",
    "POSTGRES_ADDRESS = '127.0.0.1' ## INSERT YOUR DB ADDRESS\n",
    "POSTGRES_PORT = '5432' ## INSERT YOUR PORT (DEFAULT IS 5432)\n",
    "POSTGRES_USERNAME = 'postgres' ## INSERT YOUR POSTGRES USERNAME\n",
    "POSTGRES_PASSWORD = 'password' ## INSERT YOUR POSTGRES PASSWORD\n",
    "POSTGRES_DBNAME = 'mimiciv'  ## INSERT YOUR POSTGRES DATABASE NAME\n",
    "\n",
    "\n",
    "# A long string that contains the necessary Postgres login information\n",
    "postgres_str = ('postgresql://{username}:{password}@{ipaddress}:{port}/{dbname}'.format(username=POSTGRES_USERNAME,password=POSTGRES_PASSWORD,ipaddress=POSTGRES_ADDRESS,port=POSTGRES_PORT,dbname=POSTGRES_DBNAME))\n",
    "\n",
    "# Create the connection\n",
    "cnx = create_engine(postgres_str)"
   ]
  },
  {
   "cell_type": "code",
   "execution_count": null,
   "metadata": {},
   "outputs": [],
   "source": [
    "### SQL QUREIES TO GENERATE THE MIMINIMAL SEPSIS DATA MODEL AND MIMIC GENERATED SOFA, SOI, SOFA, AND SEPSIS DETERMINATIONS TO CHECK AGAINST\n",
    "\n",
    "adt_sql ='''WITH adt AS (SELECT\n",
    "    all_adt.subject_id, -- col_id\n",
    "    all_adt.hadm_id, -- adt_id\n",
    "    all_adt.admittime, -- adt_admit \n",
    "    all_adt.dischtime, -- adt_discharge\n",
    "    (admittime - dischtime) as LOS\n",
    "FROM mimic_core.admissions as all_adt\n",
    "INNER JOIN mimic_derived.icustay_times as icu\n",
    "ON all_adt.hadm_id = icu.hadm_id)\n",
    "SELECT * FROM adt'''\n",
    "\n",
    "\n",
    "icu_adt = '''WITH icu_adt AS(SELECT *\n",
    "            FROM mimic_derived.icustay_times)\n",
    "            SELECT * FROM icu_adt'''\n",
    "\n",
    "abxdf_sql = '''SELECT * FROM mimic_derived.antibiotic'''\n",
    "\n",
    "cxdf_sql = '''WITH cx AS (select micro_specimen_id\n",
    "    -- the following columns are identical for all rows of the same micro_specimen_id\n",
    "    -- these aggregates simply collapse duplicates down to 1 row\n",
    "    , MAX(subject_id) AS subject_id\n",
    "    , MAX(hadm_id) AS hadm_id\n",
    "    , CAST(MAX(chartdate) AS DATE) AS chartdate\n",
    "    , MAX(charttime) AS charttime\n",
    "    , MAX(spec_type_desc) AS spec_type_desc\n",
    "    , max(case when org_name is not null and org_name != '' then 1 else 0 end) as PositiveCulture\n",
    "  from mimic_hosp.microbiologyevents\n",
    "  group by micro_specimen_id)\n",
    "  SELECT * FROM cx'''\n",
    "\n",
    "\n",
    "demodf_sql = \"\"\"SELECT subject_id, hadm_id, stay_id,admittime, dischtime, los_hospital,los_icu, admission_age,gender,ethnicity,hospital_expire_flag,dod\n",
    "FROM mimic_derived.icustay_detail\"\"\"\n",
    "\n",
    "\n",
    "mvdf_sql = '''WITH mv AS (SELECT\n",
    "    icustay_detail.subject_id,\n",
    "    mimic_derived.ventilation.stay_id,\n",
    "    mimic_derived.ventilation.starttime as vent_start,\n",
    "    mimic_derived.ventilation.endtime as vent_end,\n",
    "    mimic_derived.ventilation.ventilation_status\n",
    "FROM mimic_derived.ventilation -- some stays include multiple ventilation events\n",
    "JOIN mimic_derived.icustay_detail\n",
    "    ON mimic_derived.ventilation.stay_id = mimic_derived.icustay_detail.stay_id)\n",
    "    SELECT * FROM mv'''\n",
    "\n",
    "dxdf_sql = '''WITH dx AS (SELECT\n",
    "    mimic_core.admissions.subject_id, -- Subject ID\n",
    "    mimic_hosp.diagnoses_icd.hadm_id,  -- adt_id\n",
    "    mimic_hosp.diagnoses_icd.icd_code, -- ICD code number\n",
    "    mimic_hosp.diagnoses_icd.icd_version, --ICD version number\n",
    "    mimic_core.admissions.dischtime -- dx_time (note that this is discharge time and not diagnosis time)\n",
    "FROM mimic_hosp.diagnoses_icd\n",
    "JOIN mimic_core.admissions\n",
    "    ON mimic_hosp.diagnoses_icd.hadm_id = mimic_core.admissions.hadm_id)\n",
    "    SELECT * FROM dx'''\n",
    "\n",
    "vasodf_sql = '''\n",
    "WITH pressors AS (WITH drugs AS((\n",
    "-- This query extracts dose+durations of phenylephrine administration\n",
    "select\n",
    "  stay_id, linkorderid\n",
    "  , rate as rate\n",
    "  , rateuom as rate_uom\n",
    "  , amount as total_dose\n",
    "  , starttime\n",
    "  , endtime\n",
    "  ,'phenylephrine' as drug\n",
    "from mimic_icu.inputevents\n",
    "where itemid = 221749 -- phenylephrine\n",
    "\t)\n",
    "\t\n",
    "UNION\n",
    "(\n",
    "-- This query extracts dose+durations of dopamine administration\n",
    "select\n",
    "stay_id, linkorderid\n",
    ", rate as rate\n",
    ", rateuom as rate_uom\n",
    ", amount as total_dose\n",
    ", starttime\n",
    ", endtime\n",
    ",'dobutamine' as drug\n",
    "from mimic_icu.inputevents\n",
    "where itemid = 221653 -- dobutamine\n",
    "\t)\n",
    "\n",
    "UNION ( \n",
    "-- This query extracts dose+durations of dopamine administration\n",
    "select\n",
    "stay_id, linkorderid\n",
    ", rate as rate\n",
    ", rateuom as rate_uom\n",
    ", amount as total_dose\n",
    ", starttime\n",
    ", endtime\n",
    ", 'dopamine' as drug\n",
    "from mimic_icu.inputevents\n",
    "where itemid = 221662 -- dopamine\n",
    ")\n",
    "\n",
    "UNION ( \n",
    "-- This query extracts dose+durations of norepinephrine administration\n",
    "select\n",
    "  stay_id, linkorderid\n",
    "  , rate as rate\n",
    "  , rateuom as rate_uom\n",
    "  , amount as total_dose\n",
    "  , starttime\n",
    "  , endtime\n",
    "  ,'norepinephrine' as drug\n",
    "from mimic_icu.inputevents\n",
    "where itemid = 221906 -- norepinephrine\n",
    ")\n",
    "\t\n",
    "UNION (\n",
    "-- This query extracts dose+durations of epinephrine administration\n",
    "select\n",
    "stay_id, linkorderid\n",
    ", rate as rate\n",
    ", rateuom as rate_uom\n",
    ", amount as total_dose\n",
    ", starttime\n",
    ", endtime\n",
    ", 'epinephrine' as drug\n",
    "from mimic_icu.inputevents\n",
    "where itemid = 221289 -- epinephrine\n",
    ")\n",
    "UNION (\n",
    "-- This query extracts dose+durations of vasopressin administration\n",
    "select\n",
    "  stay_id, linkorderid\n",
    "  , rate as rate\n",
    "  , rateuom as rate_uom\n",
    "  , amount as total_dose\n",
    "  , starttime\n",
    "  , endtime\n",
    ", 'vasopressin' as drug\n",
    "from mimic_icu.inputevents\n",
    "where itemid = 222315 -- vasopressin)\n",
    ")),\n",
    "cohort AS (\n",
    "  select stay_id, hadm_id, subject_id\n",
    "  from mimic_icu.icustays\n",
    ")\n",
    "(SELECT * FROM drugs LEFT JOIN cohort ON cohort.stay_id = drugs.stay_id))\n",
    "\n",
    "SELECT subject_id,hadm_id,rate,rate_uom,starttime as vaso_start,endtime as vaso_end, drug FROM pressors\n",
    "'''\n",
    "\n",
    "\n",
    "\n",
    "lvdf_sql = '''WITH lvdf AS ((\n",
    "SELECT subject_id,charttime as time,bicarbonate as val, 'bicarb' as mark, hadm_id\n",
    "FROM mimic_derived.chemistry\n",
    "WHERE bicarbonate IS NOT NULL\n",
    ")\n",
    "UNION\n",
    "(\n",
    "SELECT subject_id, charttime as time, bun as val, 'bun' as mark, hadm_id\n",
    "FROM mimic_derived.chemistry\n",
    "WHERE bun IS NOT NULL\n",
    ")\n",
    "UNION\n",
    "(\n",
    "SELECT subject_id, charttime as time,creatinine as val, 'cr' as mark, hadm_id\n",
    "FROM mimic_derived.chemistry\n",
    "WHERE creatinine IS NOT NULL\n",
    ")\n",
    "UNION\n",
    "(\n",
    "SELECT subject_id ,charttime as time,wbc as val, 'wbc' as mark, hadm_id\n",
    "FROM mimic_derived.blood_differential\n",
    "WHERE wbc IS NOT NULL\n",
    ")\n",
    "UNION\n",
    "(\n",
    "SELECT subject_id,charttime as time,po2 as val, 'pO2' as mark, hadm_id\n",
    "FROM mimic_derived.bg\n",
    "WHERE po2 IS NOT NULL and specimen_pred = 'ART.'\n",
    ")\n",
    "UNION\n",
    "(\n",
    "SELECT subject_id,charttime as time,fio2 as val, 'fio2' as mark, hadm_id\n",
    "FROM mimic_derived.bg\n",
    "WHERE fio2 IS NOT NULL and specimen_pred = 'ART.'\n",
    ")\n",
    "UNION\n",
    "(\n",
    "SELECT subject_id,charttime as time, fio2_chartevents as val, 'fio2' as mark, hadm_id\n",
    "FROM mimic_derived.bg\n",
    "WHERE fio2_chartevents IS NOT NULL and specimen_pred = 'ART.'\n",
    ")\n",
    "UNION\n",
    "(\n",
    "SELECT subject_id, charttime as time,bilirubin_total as val, 'bili' as mark, hadm_id\n",
    "FROM mimic_derived.enzyme\n",
    "WHERE bilirubin_total IS NOT NULL \n",
    ")\n",
    "UNION\n",
    "(\n",
    "SELECT subject_id ,charttime as time,platelet as val, 'plt' as mark, hadm_id\n",
    "FROM mimic_derived.complete_blood_count \n",
    "WHERE platelet IS NOT NULL \n",
    ")\n",
    "UNION\n",
    "(\n",
    "SELECT gcs_t.subject_id, gcs_t.charttime as time, gcs_t.gcs as val, 'gcs' as mark, stay.hadm_id\n",
    "FROM mimic_derived.gcs as gcs_t JOIN mimic_derived.icustay_detail as stay\n",
    "ON gcs_t.stay_id = stay.stay_id\n",
    "WHERE gcs_t.gcs IS NOT NULL\n",
    ")\n",
    "UNION\n",
    "(\n",
    "SELECT vs.subject_id, vs.charttime as time,mbp as val, 'map' as mark, stay.hadm_id\n",
    "FROM mimic_derived.vitalsign as vs JOIN mimic_derived.icustay_detail as stay\n",
    "ON vs.stay_id = stay.stay_id\n",
    "WHERE vs.mbp IS NOT NULL\n",
    ")\n",
    "UNION\n",
    "(\n",
    "SELECT vs.subject_id,vs.charttime as time,spo2 as val, 'spo2' as mark, stay.hadm_id\n",
    "FROM mimic_derived.vitalsign as vs JOIN mimic_derived.icustay_detail as stay\n",
    "ON vs.stay_id = stay.stay_id\n",
    "WHERE vs.spo2 IS NOT NULL \n",
    ")\n",
    "UNION\n",
    "(\n",
    "SELECT vs.subject_id, vs.charttime as time, heart_rate as val, 'hr' as mark, stay.hadm_id\n",
    "FROM mimic_derived.vitalsign as vs JOIN mimic_derived.icustay_detail as stay\n",
    "ON vs.stay_id = stay.stay_id\n",
    "WHERE vs.spo2 IS NOT NULL \n",
    ")\n",
    "UNION\n",
    "(\n",
    "SELECT vs.subject_id, vs.charttime as time,vs.resp_rate as val, 'rr' as mark, stay.hadm_id\n",
    "FROM mimic_derived.vitalsign as vs JOIN mimic_derived.icustay_detail as stay\n",
    "ON vs.stay_id = stay.stay_id\n",
    "WHERE vs.resp_rate IS NOT NULL \n",
    ")\n",
    "UNION\n",
    "(\n",
    "SELECT vs.subject_id, vs.charttime as time,vs.sbp as val, 'sbp' as mark, stay.hadm_id\n",
    "FROM mimic_derived.vitalsign as vs JOIN mimic_derived.icustay_detail as stay\n",
    "ON vs.stay_id = stay.stay_id\n",
    "WHERE vs.sbp IS NOT NULL \n",
    ")\n",
    "UNION\n",
    "(\n",
    "SELECT O2.subject_id, O2.charttime as time,O2.o2_flow as val, 'O2 Flow' as mark, stay.hadm_id\n",
    "FROM mimic_derived.oxygen_delivery as O2 JOIN mimic_derived.icustay_detail as stay\n",
    "ON O2.stay_id = stay.stay_id\n",
    "WHERE O2.o2_flow IS NOT NULL \n",
    "))\n",
    "SELECT * FROM lvdf'''\n",
    "\n",
    "\n",
    "Sepsis3_sql = '''WITH sepsis as (SELECT sep3.*,details.hadm_id\n",
    "FROM mimic_derived.sepsis3 as sep3\n",
    "INNER JOIN mimic_derived.icustay_detail as details\n",
    "ON sep3.subject_id = details.subject_id AND sep3.stay_id = details.stay_id)\n",
    "SELECT * FROM sepsis\n",
    "'''\n",
    "\n",
    "SOI_sql = '''WITH SOI as (SELECT *\n",
    "FROM mimic_derived.suspicion_of_infection)\n",
    "SELECT * FROM SOI'''\n",
    "\n",
    "SOFA_sql = '''SELECT\n",
    "       subject_id, sep3.stay_id, hadm_id, icu_intime, icu_outtime, starttime, endtime,\n",
    "       bilirubin_max, liver, liver_24hours, \n",
    "       meanbp_min,\n",
    "       rate_dobutamine, rate_dopamine, rate_epinephrine,rate_norepinephrine,\n",
    "       \n",
    "       cardiovascular,cardiovascular_24hours,\n",
    "       \n",
    "       gcs_min,cns, cns_24hours, \n",
    "       platelet_min, coagulation,coagulation_24hours,\n",
    "       creatinine_max, uo_24hr, renal, renal_24hours,\n",
    "       pao2fio2ratio_novent, pao2fio2ratio_vent, respiration, respiration_24hours,\n",
    "       sofa_24hours   \n",
    "\n",
    "FROM mimic_derived.sofa AS sep3\n",
    "LEFT JOIN mimic_derived.icustay_detail as detail\n",
    "ON sep3.stay_id = detail.stay_id'''\n",
    "\n",
    "\n",
    "Sepsis_codes_sql = \"\"\"WITH dx as (SELECT dx.subject_id, dx.hadm_id, dx.icd_code, dx.icd_version, icd_key.long_title\n",
    "FROM mimic_hosp.diagnoses_icd as dx\n",
    "INNER JOIN mimic_hosp.d_icd_diagnoses as icd_key\n",
    "ON dx.icd_code = icd_key.icd_code AND dx.icd_version = icd_key.icd_version\n",
    "WHERE dx.icd_code  IN ('A419','A409','A412','A4101','A4102','A411','A403','A414','A4150','A413','A4151','A4152','A4153','A4159','A4189','A021','A227','A267',\n",
    " 'A327','A400','A401','A408','A4181','A427','A5486','B377','99591','0389','0380','03810','03811','03812','03819','0382','03840','03841','03842',\n",
    " '03843','03844','03849','0388','99592','R6520','78552','R6521'))\n",
    " SELECT * FROM dx\n",
    "\"\"\"\n",
    "\n",
    "uo_sql =  \"\"\"WITH UOP AS (SELECT times.subject_id,times.hadm_id,uo.charttime,\n",
    "\n",
    "CASE WHEN uo.uo_tm_24hr >= 22 AND uo.uo_tm_24hr <= 30\n",
    "          THEN uo.urineoutput_24hr / uo.uo_tm_24hr * 24 END AS uo_24hr\n",
    "\n",
    "\n",
    "FROM mimic_derived.urine_output_rate uo\n",
    "LEFT JOIN mimic_derived.icustay_times times\n",
    "ON uo.stay_id = times.stay_id) SELECT subject_id, hadm_id, charttime as uo_time, uo_24hr FROM UOP\"\"\"\n",
    "\n",
    "sql_scripts = {'adt':adt_sql,'icu_adt':icu_adt, 'vasodf': vasodf_sql, 'abxdf':abxdf_sql,'cxdf':cxdf_sql, 'demo':demodf_sql, \n",
    "               'mvdf':mvdf_sql,'dxdf':dxdf_sql,'uo':uo_sql, 'lvdf':lvdf_sql,'Sepsis3':Sepsis3_sql,'SOI':SOI_sql, 'SOFA': SOFA_sql, \n",
    "               'ICD_codes':Sepsis_codes_sql}"
   ]
  },
  {
   "cell_type": "code",
   "execution_count": null,
   "metadata": {},
   "outputs": [],
   "source": [
    "### FUNCTION TO LOAD DATA FROM MIMIC\n",
    "def load_mimic(limit=None):\n",
    "    data ={}\n",
    "    if limit != None:\n",
    "        print('loading adt')\n",
    "        adt = pd.read_sql_query(sql_scripts['adt'] +' LIMIT {}'.format(limit), cnx).drop_duplicates().reset_index(drop=True)\n",
    "        adt['admittime'] = pd.to_datetime(adt['admittime'],utc=True)\n",
    "        adt['dischtime'] = pd.to_datetime(adt['dischtime'],utc=True)\n",
    "        first = adt.sort_values(by ='admittime', ascending=True).groupby(['subject_id','hadm_id']).first().reset_index()\n",
    "        last = adt.sort_values(by ='dischtime',ascending = True).groupby(['subject_id','hadm_id']).last().reset_index()\n",
    "        adt = pd.merge(first.drop('dischtime',axis=1),last[['subject_id','hadm_id','dischtime']], on=['subject_id','hadm_id'], how='left')\n",
    "        \n",
    "        data['adt'] = adt\n",
    "        \n",
    "        include_subject_id = tuple(adt['subject_id'].to_list())\n",
    "        include_hadm_id = tuple(adt['hadm_id'].to_list())\n",
    "        \n",
    "        for script in sql_scripts.keys()-['adt','Sepsis3']:\n",
    "            curtime = time.time()\n",
    "            print('loading {}'.format(script),end='...')\n",
    "            data[script] = pd.read_sql_query(sql_scripts[script] +' WHERE subject_id IN {}'.format(include_subject_id), cnx).drop_duplicates().reset_index(drop=True)\n",
    "            print(f'({time.time()-curtime:.1f}s)')\n",
    "        \n",
    "        for script in ['Sepsis3','SOFA']:\n",
    "            curtime = time.time()\n",
    "            print('loading {}'.format(script),end='...')\n",
    "            data[script] = pd.read_sql_query(sql_scripts[script] +' WHERE hadm_id IN {}'.format(include_hadm_id), cnx).drop_duplicates().reset_index(drop=True)\n",
    "            print(f'({time.time()-curtime:.1f}s)')\n",
    " \n",
    "    else:\n",
    "        for script in sql_scripts:\n",
    "            curtime = time.time()\n",
    "            print('loading {}'.format(script),end='...')\n",
    "            data[script] = pd.read_sql_query(sql_scripts[script],cnx).drop_duplicates().reset_index(drop=True)\n",
    "            print(f'({time.time()-curtime:.1f}s)')\n",
    "\n",
    "        data['adt']['admittime'] = pd.to_datetime(data['adt']['admittime'],utc=True)\n",
    "        data['adt']['dischtime'] = pd.to_datetime(data['adt']['dischtime'],utc=True)\n",
    "        first = data['adt'].sort_values(by ='admittime', ascending=True).groupby(['subject_id','hadm_id']).first().reset_index()\n",
    "        last = data['adt'].sort_values(by ='dischtime',ascending = True).groupby(['subject_id','hadm_id']).last().reset_index()\n",
    "        data['adt'] = pd.merge(first.drop('dischtime',axis=1),last[['subject_id','hadm_id','dischtime']], on=['subject_id','hadm_id'], how='left')\n",
    "\n",
    "    \n",
    "    return data"
   ]
  },
  {
   "cell_type": "code",
   "execution_count": null,
   "metadata": {},
   "outputs": [],
   "source": []
  },
  {
   "cell_type": "code",
   "execution_count": null,
   "metadata": {},
   "outputs": [],
   "source": [
    "#LOAD DATA AND CONVERT DATA TYPES \n",
    "#CONIDER USING THE data = load_mimic(500) TO LOAD A SMALLER PORTION OF THE DATABASE TO SAVE TIME OR MEMORY\n",
    "\n",
    "#data = load_mimic(500)\n",
    "data = load_mimic()\n",
    "\n",
    "\n",
    "\n",
    "print('\\n')\n",
    "data['adt']['subject_id'] = data['adt']['subject_id'].dropna().astype(int).astype(str)\n",
    "data['adt']['hadm_id'] = data['adt']['hadm_id'].dropna().astype(int).astype(str)\n",
    "data['adt']['admittime'] = pd.to_datetime(data['adt']['admittime'],utc=True,errors='raise',exact=False,infer_datetime_format=True)\n",
    "data['adt']['dischtime'] = pd.to_datetime(data['adt']['dischtime'],utc=True,errors='raise',exact=False,infer_datetime_format=True)\n",
    "\n",
    "data['adt'] = data['adt'].groupby(['subject_id','hadm_id']).agg({'admittime':'min','dischtime':'max'}).reset_index()\n",
    "\n",
    "data['adt'].dropna(inplace=True)\n",
    "data['adt'].reset_index(drop=True,inplace=True)\n",
    "\n",
    "dfs = list(data.keys())\n",
    "dfs.remove('adt')\n",
    "\n",
    "\n",
    "\n",
    "for df in dfs:\n",
    "    if 'subject_id' in data[df].columns:\n",
    "        data[df]['subject_id'] = data[df]['subject_id'].astype(int).astype(str)\n",
    "        #data[df].dropna(subset=[col_dict['col_id']],inplace=True)\n",
    "        data[df].reset_index(drop=True,inplace=True)\n",
    "        \n",
    "    for col in ['admittime','dischtime','intime_hr','outtime_hr','time','vent_start', 'vent_end','vaso_start','vaso_end','starttime','stoptime','charttime']:\n",
    "        if col in data[df].columns:\n",
    "            data[df][col] = pd.to_datetime(data[df][col],utc=True)\n",
    "    \n",
    "                                                         \n",
    "    if 'hadm_id' in data[df].columns:\n",
    "        data[df]['hadm_id'] = pd.to_numeric(data[df]['hadm_id'],errors='coerce',downcast='integer').astype(str)\n",
    "        data[df]['hadm_id'] = data[df]['hadm_id'].apply(lambda z: z.split('.')[0])\n",
    "        data[df].reset_index(drop=True,inplace=True)      \n",
    "        \n",
    "        \n",
    "    #print(df)\n",
    "    #display(data[df].head())\n",
    "    #print('percent in adt: {:.2f}'.format(data[df]['subject_id'].isin(data['adt']['subject_id']).mean()*100))\n",
    "    #print('')"
   ]
  },
  {
   "cell_type": "code",
   "execution_count": null,
   "metadata": {},
   "outputs": [],
   "source": []
  },
  {
   "cell_type": "code",
   "execution_count": null,
   "metadata": {},
   "outputs": [],
   "source": [
    "#DROP MISSING VALUES THAT ARE NEEDED\n",
    "data['cxdf'].dropna(subset=['charttime'],inplace=True)\n",
    "data['abxdf'].dropna(subset=['starttime'],inplace=True)\n",
    "data['icu_adt'] = data['icu_adt'].dropna(subset=['intime_hr','outtime_hr'],how='all').reset_index(drop=True)\n",
    "data['uo'] = data['uo'].dropna()"
   ]
  },
  {
   "cell_type": "code",
   "execution_count": null,
   "metadata": {},
   "outputs": [],
   "source": [
    "# CHANGE ADT TO CORRECT FORMAT FOR MINIMAL SEPSIS DATA MODEL\n",
    "def make_adt(adt,icu_adt):\n",
    "\n",
    "    adt_trim = adt.copy()\n",
    "    adt_trim['admittime'] = pd.to_datetime(adt_trim['admittime'],utc=True)\n",
    "    adt_trim['dischtime'] = pd.to_datetime(adt_trim['dischtime'],utc=True)\n",
    "    \n",
    "\n",
    "    \n",
    "    adt_icu_trim = icu_adt.copy()\n",
    "    adt_icu_trim = adt_icu_trim[['subject_id','hadm_id','intime_hr','outtime_hr']]\n",
    "    adt_icu_trim['intime_hr'] =  pd.to_datetime(adt_icu_trim['intime_hr'],utc=True)\n",
    "    adt_icu_trim['outtime_hr'] = pd.to_datetime(adt_icu_trim['outtime_hr'],utc=True)\n",
    "    \n",
    "\n",
    "    \n",
    "\n",
    "    find_last_adt = adt_trim.sort_values(by='dischtime').groupby('hadm_id')['dischtime'].last().reset_index()\n",
    "    find_last_icu = adt_icu_trim.sort_values(by='outtime_hr').groupby('hadm_id')['outtime_hr'].last().reset_index()\n",
    "    find_last = pd.merge(find_last_adt,find_last_icu,on='hadm_id',how='left')\n",
    "    \n",
    "\n",
    "    find_first_adt = adt_trim.sort_values(by='admittime').groupby('hadm_id')['admittime'].first().reset_index()\n",
    "    find_first_icu = adt_icu_trim.sort_values(by='intime_hr').groupby('hadm_id')['intime_hr'].first().reset_index()\n",
    "    find_first = pd.merge(find_first_adt,find_first_icu,on='hadm_id',how='left')\n",
    "    \n",
    "    find_last['last_time']= find_last[['dischtime','outtime_hr']].max(axis=1,skipna=True, numeric_only=False)\n",
    "    adt_trim = pd.merge(adt_trim,find_last,on='hadm_id',how='left')\n",
    "    adt_trim['dischtime'] = adt_trim['last_time']\n",
    "    \n",
    "    find_first['first_time'] = find_first[['admittime','intime_hr']].min(axis=1,skipna=True, numeric_only=False)\n",
    "    adt_trim = pd.merge(adt_trim,find_first,on='hadm_id',how='left')\n",
    "    adt_trim['admittime'] = adt_trim['first_time']\n",
    "    \n",
    "    \n",
    "    adt_icu_trim['loc_cat'] = 'ICU'\n",
    "    \n",
    "    \n",
    "    adt_trim = adt_trim[['subject_id','hadm_id','admittime','dischtime']].rename(columns={'admittime':'intime_hr','dischtime':'outtime_hr'})\n",
    "\n",
    "    \n",
    "    combine = pd.concat([adt_trim,adt_icu_trim])\n",
    "    combine['intime_hr'] = pd.to_datetime(combine['intime_hr'],utc=True)\n",
    "    combine['outtime_hr'] = pd.to_datetime(combine['outtime_hr'],utc=True)\n",
    "    \n",
    "    \n",
    "    df = combine.groupby(['subject_id','hadm_id']).agg({'intime_hr':lambda z: list(z),'outtime_hr':lambda z: list(z)}).reset_index()\n",
    "    df['all_times'] = df['intime_hr'] + df['outtime_hr']\n",
    "    df = df[['subject_id','hadm_id','all_times']].explode('all_times').sort_values(by=['subject_id','hadm_id','all_times']).reset_index(drop=True)\n",
    "\n",
    "    \n",
    "    \n",
    "    df['outtime_hr'] = df.groupby(['subject_id','hadm_id'])['all_times'].shift(-1)\n",
    "    df = df.dropna().rename(columns={'all_times':'intime_hr'})\n",
    "\n",
    "    df['duration'] = (df['outtime_hr'] - df['intime_hr']).apply(lambda z: z.total_seconds()/3600)\n",
    "    df = df[df['duration']>0].reset_index(drop=True)\n",
    "    df = pd.merge(df,adt_icu_trim[['subject_id','hadm_id','intime_hr','loc_cat']],on=['subject_id','hadm_id','intime_hr'],how='left').fillna('non-ICU')\n",
    "    \n",
    "    df = pd.merge(df,adt[['subject_id','hadm_id','admittime','dischtime']],on=['subject_id','hadm_id'], how='left')\n",
    "    \n",
    "    return df.dropna()"
   ]
  },
  {
   "cell_type": "code",
   "execution_count": null,
   "metadata": {},
   "outputs": [],
   "source": [
    "#FINALIZE DATAFRAMES\n",
    "lvdf = data['lvdf'].copy()\n",
    "adt = make_adt(data['adt'],data['icu_adt'])\n",
    "vasodf = data['vasodf'].copy()\n",
    "dxdf = data['dxdf'].copy()\n",
    "mvdf = data['mvdf'].copy()\n",
    "abxdf = data['abxdf'].copy()\n",
    "cxdf = data['cxdf'].copy()\n",
    "demo = data['demo'].copy()\n",
    "Sepsis3_key = data['Sepsis3'].copy()\n",
    "uo = data['uo'].copy()"
   ]
  },
  {
   "cell_type": "markdown",
   "metadata": {},
   "source": [
    "### Map Columns to Data Model"
   ]
  },
  {
   "cell_type": "code",
   "execution_count": null,
   "metadata": {},
   "outputs": [],
   "source": [
    "#MAP CURRENT COLUMN NAMES TO THE COLUMNS IN THE MINIMAL SEPSIS DATA MODEL\n",
    "names_to_standard = {\n",
    "            'subject_id' : 'patient_id', \n",
    "            'hadm_id' : 'encounter_id', \n",
    "            'admittime' : 'admit_time', \n",
    "            'dischtime' : 'discharge_time',\n",
    "            'adt_loc': 'location',\n",
    "            'intime_hr': 'location_start',\n",
    "            'outtime_hr':'location_end',\n",
    "        \n",
    "            \n",
    "            \n",
    "            'val' : 'value', \n",
    "            'mark' : 'label', \n",
    "            'time' : 'time_measured', \n",
    "            \n",
    "            \n",
    "            'vent_start': 'vent_start',\n",
    "            'vent_end':'vent_end',\n",
    "            'ventilation_status': 'vent_type',\n",
    "            \n",
    "            \n",
    "            'vaso_start': 'vaso_start',\n",
    "            'vaso_end': 'vaso_end',\n",
    "            'rate_uom': 'vaso_units',\n",
    "            'rate': 'vaso_dose',\n",
    "            'drug': 'pressor_name',\n",
    "            \n",
    "\n",
    "            'starttime':'abx_start',\n",
    "            'stoptime': 'abx_end',\n",
    "            'antibiotic' : 'antibiotic_name',\n",
    "            \n",
    "            \n",
    "            'charttime': 'culture_time',\n",
    "            'spec_type_desc': 'culture_type',\n",
    "    \n",
    "            'icd_code' : 'dx_code',\n",
    "            'recorded_date' : 'dx_time',\n",
    "    \n",
    "            'uo_time':'uo_time'\n",
    "       }"
   ]
  },
  {
   "cell_type": "code",
   "execution_count": null,
   "metadata": {},
   "outputs": [],
   "source": [
    "# RENAME COLUMNS\n",
    "dfs = [lvdf, adt, vasodf, dxdf, mvdf, abxdf, cxdf, demo , Sepsis3_key , uo]\n",
    "for df in dfs:\n",
    "    df.rename(columns=names_to_standard,inplace=True)\n",
    "    display(df.head())"
   ]
  },
  {
   "cell_type": "code",
   "execution_count": null,
   "metadata": {},
   "outputs": [],
   "source": [
    "# DROP COLUMNS THAT ARE NOT NEEDED\n",
    "adt = adt.drop(columns=['admit_time','discharge_time'])\n",
    "vasodf = vasodf.drop(columns=['encounter_id'])\n",
    "lvdf = lvdf.drop(columns=['encounter_id'])\n",
    "mvdf = mvdf.drop(columns=['stay_id'])\n",
    "abxdf = abxdf.drop(columns=['encounter_id','stay_id'])\n",
    "cxdf = cxdf.drop(columns=['encounter_id','micro_specimen_id','chartdate','positiveculture'])\n",
    "uo = uo.drop(columns=['encounter_id'])\n"
   ]
  },
  {
   "cell_type": "code",
   "execution_count": null,
   "metadata": {},
   "outputs": [],
   "source": [
    "#REMOVE NON INVASIVE VENTILATED PATIENTS AS THIS IS THE DECISION IN MIMICS CONCEPTION OF SEPSIS-3\n",
    "display(pd.DataFrame(mvdf['vent_type'].value_counts()))\n",
    "mvdf = mvdf[mvdf['vent_type'].isin(['InvasiveVent'])].reset_index(drop=True)\n",
    "mvdf.loc[mvdf['vent_type']=='InvasiveVent','vent_type']='VENT'"
   ]
  },
  {
   "cell_type": "code",
   "execution_count": null,
   "metadata": {},
   "outputs": [],
   "source": [
    "# REMOVE PRESSORS OTHER THAN 'norepinephrine','epinephrine','dopamine','dobutamine' AS THIS WAS THE DECISION MADE BY MIMIC\n",
    "display(pd.DataFrame(vasodf['pressor_name'].value_counts()))\n",
    "vasodf = vasodf[vasodf['pressor_name'].isin(['norepinephrine','epinephrine','dopamine','dobutamine'])].reset_index(drop=True)"
   ]
  },
  {
   "cell_type": "markdown",
   "metadata": {},
   "source": [
    "### Import Dataframes"
   ]
  },
  {
   "cell_type": "markdown",
   "metadata": {},
   "source": [
    "## Goals:\n",
    "1. To develop a data structure that is easy to format data from EHRs into and contains the data elements most commonly used to calculate clinical scores\n",
    "2. To create sub-fuctions to gather data and facilitate the writing of clinical calculators\n",
    "3. To create a sub-set of clinical calculaors focusing on common scores in the ICU and hospital populations\n",
    "4. To use MIMIC data as a proof on concepts and to facilitate peer review of the calculated scores"
   ]
  },
  {
   "cell_type": "markdown",
   "metadata": {},
   "source": [
    "### Map lvdf lables to Data Model Lables"
   ]
  },
  {
   "cell_type": "code",
   "execution_count": null,
   "metadata": {},
   "outputs": [],
   "source": [
    "# CURRENT LABELS\n",
    "lvdf['label'].value_counts()"
   ]
  },
  {
   "cell_type": "code",
   "execution_count": null,
   "metadata": {},
   "outputs": [],
   "source": [
    "# MAP CURRENT LABELS TO LABELS REQUIRED BY THE MINIMAL SEPSIS DATA MODEL\n",
    "lvdf_map = {#'TEMP' : 'temp_c', \n",
    "            'HR' : 'hr', \n",
    "            'RR' :  'rr',\n",
    "            #'PCO2': 'pco2_art',\n",
    "            'WBC' : 'wbc',\n",
    "            'SBP' : 'sbp',\n",
    "            'MAP' : 'map',\n",
    "            #'LACTATE' : 'lactate',\n",
    "            'Cr' : 'cr',\n",
    "            'BILI' : 'bili',\n",
    "            'PLT' : 'plt',\n",
    "            #'INR' : 'inr',\n",
    "            #'PT' : 'pt',\n",
    "            'GCS' : 'gcs',\n",
    "            'FiO2': 'fio2',\n",
    "            'O2_Flow': 'O2 Flow',\n",
    "            'SpO2' : 'spo2',\n",
    "            'BUN' : 'bun',\n",
    "            #'PT' : 'pt',\n",
    "            #'UOP' : np.nan,\n",
    "            'FiO2' : 'fio2',\n",
    "            #'pH' : 'ph_art',\n",
    "            'pO2' : 'pO2',\n",
    "            #'AaGradient' : np.nan,\n",
    "            #'Na': 'na',\n",
    "            #'K' : 'k',\n",
    "            #'HCT' : 'hcrt',\n",
    "            #'PTT': 'ptt',\n",
    "            #'PEEP': 'peep',\n",
    "            #'PFRatio': np.nan,\n",
    "            #'SFRatio': np.nan,\n",
    "           }\n",
    "\n",
    "inv_map = {v: k for k, v in lvdf_map.items() if pd.notna(k)}\n",
    "\n",
    "lvdf['label']  = lvdf['label'].map(inv_map)\n",
    "lvdf['time_measured'] = pd.to_datetime(lvdf['time_measured'],utc=True)\n",
    "lvdf.drop_duplicates(inplace= True)\n",
    "\n",
    "\n",
    "lvdf['label'].value_counts()"
   ]
  },
  {
   "cell_type": "code",
   "execution_count": null,
   "metadata": {},
   "outputs": [],
   "source": [
    "# DROP ANY UNKNOWN LABELS\n",
    "lvdf = lvdf[~lvdf['value'].isna()]"
   ]
  },
  {
   "cell_type": "markdown",
   "metadata": {},
   "source": [
    "#### Explore Abx"
   ]
  },
  {
   "cell_type": "code",
   "execution_count": null,
   "metadata": {},
   "outputs": [],
   "source": [
    "abxdf['abx_start'] = pd.to_datetime(abxdf['abx_start'],utc=True)\n",
    "abxdf['abx_end'] = pd.to_datetime(abxdf['abx_end'],utc=True)"
   ]
  },
  {
   "cell_type": "code",
   "execution_count": null,
   "metadata": {},
   "outputs": [],
   "source": [
    "abx_map = pd.read_excel('MIMIC_abx_review.xlsx')[['antibiotic','route','route_corrected']].rename(columns={'antibiotic':'antibiotic_name'})"
   ]
  },
  {
   "cell_type": "code",
   "execution_count": null,
   "metadata": {},
   "outputs": [],
   "source": []
  },
  {
   "cell_type": "code",
   "execution_count": null,
   "metadata": {},
   "outputs": [],
   "source": [
    "abx_explore = pd.merge(abxdf,abx_map,on=['antibiotic_name','route'],how='left')"
   ]
  },
  {
   "cell_type": "code",
   "execution_count": null,
   "metadata": {},
   "outputs": [],
   "source": [
    "abx_explore[~abx_explore['route_corrected'].isin(['PO','IV'])]['route_corrected'].value_counts()"
   ]
  },
  {
   "cell_type": "code",
   "execution_count": null,
   "metadata": {},
   "outputs": [],
   "source": [
    "inappropriate_route = abx_explore[abx_explore['route_corrected'].isin(['Dwell','Topical','Irrigation','Inhaled'])]"
   ]
  },
  {
   "cell_type": "code",
   "execution_count": null,
   "metadata": {},
   "outputs": [],
   "source": [
    "#inappropriate_route"
   ]
  },
  {
   "cell_type": "code",
   "execution_count": null,
   "metadata": {},
   "outputs": [],
   "source": [
    "inappropriate_route = inappropriate_route.groupby(['antibiotic_name','route','route_corrected'])['patient_id'].count().reset_index().rename(columns={'patient_id':'count'})"
   ]
  },
  {
   "cell_type": "code",
   "execution_count": null,
   "metadata": {},
   "outputs": [],
   "source": [
    "inappropriate_drug = abx_explore[abx_explore['antibiotic_name'].str.contains('nitro',case=False)]"
   ]
  },
  {
   "cell_type": "code",
   "execution_count": null,
   "metadata": {},
   "outputs": [],
   "source": [
    "inappropriate_drug "
   ]
  },
  {
   "cell_type": "code",
   "execution_count": null,
   "metadata": {},
   "outputs": [],
   "source": [
    "inappropriate_drug  =inappropriate_drug.groupby(['antibiotic_name','route','route_corrected'])['patient_id'].count().reset_index().rename(columns={'patient_id':'count'})"
   ]
  },
  {
   "cell_type": "code",
   "execution_count": null,
   "metadata": {},
   "outputs": [],
   "source": [
    "inappropriate_abx = pd.concat([inappropriate_route,inappropriate_drug]).reset_index(drop=True)"
   ]
  },
  {
   "cell_type": "code",
   "execution_count": null,
   "metadata": {},
   "outputs": [],
   "source": [
    "#innappropriate_abx "
   ]
  },
  {
   "cell_type": "markdown",
   "metadata": {},
   "source": [
    "#### Explore Cx"
   ]
  },
  {
   "cell_type": "code",
   "execution_count": null,
   "metadata": {
    "ExecuteTime": {
     "end_time": "2021-08-26T19:56:58.805566Z",
     "start_time": "2021-08-26T19:56:58.743080Z"
    }
   },
   "outputs": [],
   "source": [
    "cx_final = cxdf\n",
    "#cx_final = cxdf[cxdf['variable']=='BLOOD CULTURE'].reset_index(drop=True)"
   ]
  },
  {
   "cell_type": "code",
   "execution_count": null,
   "metadata": {},
   "outputs": [],
   "source": [
    "cx_map = pd.read_excel('MIMIC_cx_review-MH-2-24-22.xlsx')[['spec_type_desc','Description']].rename(columns={'spec_type_desc':'culture_type'})"
   ]
  },
  {
   "cell_type": "code",
   "execution_count": null,
   "metadata": {},
   "outputs": [],
   "source": [
    "cx_explore = pd.merge(cxdf,cx_map,on='culture_type',how='left')"
   ]
  },
  {
   "cell_type": "code",
   "execution_count": null,
   "metadata": {},
   "outputs": [],
   "source": [
    "inappropriate_cx = cx_explore[cx_explore['Description'].isin(['Screen','Viral Chronic','Non-Sepsis Infection','Non-Culture','Postmortem','Non-Sterile Culture','Screening'])].reset_index(drop=True)\n",
    "inappropriate_cx = inappropriate_cx.groupby('culture_type')['patient_id'].count().reset_index().rename(columns={'patient_id':'count'})"
   ]
  },
  {
   "cell_type": "markdown",
   "metadata": {},
   "source": [
    "#### Sepsis Calcs"
   ]
  },
  {
   "attachments": {
    "f2b2726f-264c-43a2-bd9c-075bef3886ee.png": {
     "image/png": "[encoded data removed]"
    }
   },
   "cell_type": "markdown",
   "metadata": {},
   "source": [
    "![image.png](attachment:f2b2726f-264c-43a2-bd9c-075bef3886ee.png)"
   ]
  },
  {
   "cell_type": "markdown",
   "metadata": {},
   "source": [
    "### Run Sepsis-3"
   ]
  },
  {
   "cell_type": "code",
   "execution_count": null,
   "metadata": {},
   "outputs": [],
   "source": []
  },
  {
   "cell_type": "code",
   "execution_count": null,
   "metadata": {},
   "outputs": [],
   "source": [
    "SOI_full, RTI_full, Sep_3,SOI_final,RTI_final = I2_Sepsis.Sepsis_3(lvdf=lvdf, adt=adt, mvdf= mvdf, abxdf = abxdf, cxdf= cx_final, vasodf = vasodf, uodf=uo, demo=demo, SF_dict = {1:512,2:357,3:214,4:89}, calc_FiO2 = False, calc_PF = True, calc_SF= False, \n",
    "max_flow_convert= 6, calc_interval_mins = 60, LOCF_hours = None, include_SF_RATIO = False, include_qSOFA =False,mech_vent_def = 'VENT', gcs_cutoff = 15, debug = True, cutoff = 2)"
   ]
  },
  {
   "cell_type": "markdown",
   "metadata": {},
   "source": [
    "### Make Copy of Originals and Ensure Formats Are Correct:"
   ]
  },
  {
   "cell_type": "code",
   "execution_count": null,
   "metadata": {},
   "outputs": [],
   "source": [
    "Sep_3_orig = Sep_3.copy()\n",
    "RTI_orig = RTI_full.copy()\n",
    "SOI_orig = SOI_full.copy()\n",
    "\n",
    "MSep_3 = data['Sepsis3'].copy().rename(columns = names_to_standard)\n",
    "MIMIC_SOI = data['SOI'].copy().rename(columns = names_to_standard)\n",
    "MIMIC_SOFA = data['SOFA'].copy().rename(columns={'starttime':'SOFA_start', 'endtime':'SOFA_end'}).rename(columns = names_to_standard)"
   ]
  },
  {
   "cell_type": "markdown",
   "metadata": {},
   "source": [
    "## Clean up and Format Columns"
   ]
  },
  {
   "cell_type": "markdown",
   "metadata": {},
   "source": [
    "### Python"
   ]
  },
  {
   "cell_type": "code",
   "execution_count": null,
   "metadata": {},
   "outputs": [],
   "source": [
    "Sep_3['SOITime'] = pd.to_datetime(Sep_3['SOITime'], utc=True)\n",
    "Sep_3['score_time'] = pd.to_datetime(Sep_3['score_time'], utc=True)\n",
    "Sep_3['patient_id'] = Sep_3['patient_id'].astype(str)\n",
    "Sep_3['encounter_id'] = Sep_3['encounter_id'].astype(str)\n",
    "Sep_3['loc_cat'] = Sep_3['loc_cat'].astype(str)\n",
    "Sep_3['Score'] = Sep_3['Score'].astype(str)\n",
    "\n",
    "\n",
    "Sep_3['Sepsis_Time'] = Sep_3['SOITime']\n",
    "Sep_3 = Sep_3[['patient_id', 'encounter_id', 'SOITime', 'score_time','Sepsis_Time', 'loc_cat', 'Score']]\n",
    "\n",
    "\n",
    "\n"
   ]
  },
  {
   "cell_type": "code",
   "execution_count": null,
   "metadata": {},
   "outputs": [],
   "source": [
    "RTI = RTI_full[['patient_id', 'encounter_id', 'score_time','SOFA_GCS_Score','SOFA_MAP_Score','SOFA_BILI_Score','SOFA_PLT_Score','SOFA_RENAL_Score','SOFA_RESP_Score','SOFA_Score']].reset_index(drop=True)\n",
    "\n",
    "RTI['score_time'] = pd.to_datetime(RTI['score_time'],utc=True)\n",
    "RTI['patient_id'] = RTI['patient_id'].astype(str)\n",
    "RTI['encounter_id'] = RTI['encounter_id'].astype(str)"
   ]
  },
  {
   "cell_type": "code",
   "execution_count": null,
   "metadata": {},
   "outputs": [],
   "source": [
    "python_SOFA = RTI[['patient_id','encounter_id','score_time','SOFA_GCS_Score','SOFA_MAP_Score','SOFA_BILI_Score','SOFA_PLT_Score','SOFA_RENAL_Score','SOFA_RESP_Score','SOFA_Score']]\n",
    "#python_qSOFA = RTI[['patient_id','encounter_id','score_time','qSOFA_Score']]"
   ]
  },
  {
   "cell_type": "code",
   "execution_count": null,
   "metadata": {},
   "outputs": [],
   "source": [
    "SOI_trim = SOI_full\n",
    "\n",
    "SOI_trim['abx_start'] = pd.to_datetime(SOI_trim['abx_start'],utc=True)\n",
    "SOI_trim['culture_time'] = pd.to_datetime(SOI_trim['culture_time'],utc=True)\n",
    "SOI_trim['SOITime'] = pd.to_datetime(SOI_trim['SOITime'],utc=True)\n",
    "SOI_trim['patient_id'] = SOI_trim['patient_id'].astype(str)\n",
    "SOI_trim['encounter_id'] = SOI_trim['encounter_id'].astype(str)\n"
   ]
  },
  {
   "cell_type": "markdown",
   "metadata": {},
   "source": [
    "### SQL"
   ]
  },
  {
   "cell_type": "code",
   "execution_count": null,
   "metadata": {},
   "outputs": [],
   "source": [
    "MSep_3['antibiotic_time'] = pd.to_datetime(MSep_3['antibiotic_time'],utc=True)\n",
    "MSep_3['culture_time'] = pd.to_datetime(MSep_3['culture_time'],utc=True)\n",
    "MSep_3['suspected_infection_time'] = pd.to_datetime(MSep_3['suspected_infection_time'],utc=True)\n",
    "MSep_3['sofa_time'] = pd.to_datetime(MSep_3['sofa_time'],utc=True)\n",
    "MSep_3['patient_id'] = MSep_3['patient_id'].astype(str)\n",
    "MSep_3['encounter_id'] = MSep_3['encounter_id'].astype(str)\n"
   ]
  },
  {
   "cell_type": "code",
   "execution_count": null,
   "metadata": {},
   "outputs": [],
   "source": [
    "# Find time of Sepsis for Mimic\n",
    "\n",
    "MSep_3['MSep_Time'] = MSep_3['suspected_infection_time']\n",
    "MSep_3 = MSep_3.sort_values(by='MSep_Time').groupby('encounter_id').first().reset_index()\n",
    "MSep_3 = MSep_3[['patient_id','encounter_id', 'stay_id', 'antibiotic_time', 'culture_time', 'suspected_infection_time', \n",
    "                 'sofa_time','MSep_Time', 'sofa_score', 'respiration', 'coagulation', 'liver', 'cardiovascular', 'cns', 'renal', 'sepsis3']]"
   ]
  },
  {
   "cell_type": "code",
   "execution_count": null,
   "metadata": {},
   "outputs": [],
   "source": [
    "MIMIC_SOI['patient_id']  = MIMIC_SOI['patient_id'].astype(str)\n",
    "MIMIC_SOI['encounter_id']  = MIMIC_SOI['encounter_id'].astype(str)\n",
    "\n",
    "MIMIC_SOI['antibiotic_time'] = pd.to_datetime(MIMIC_SOI['antibiotic_time'],utc=True)\n",
    "MIMIC_SOI['suspected_infection_time'] = pd.to_datetime(MIMIC_SOI['suspected_infection_time'],utc=True)\n",
    "MIMIC_SOI['culture_time'] = pd.to_datetime(MIMIC_SOI['culture_time'],utc=True)\n",
    "\n",
    "MIMIC_SOI = MIMIC_SOI[MIMIC_SOI['suspected_infection']==1]\n"
   ]
  },
  {
   "cell_type": "code",
   "execution_count": null,
   "metadata": {},
   "outputs": [],
   "source": [
    "MIMIC_SOFA['patient_id'] = MIMIC_SOFA['patient_id'].astype(str)\n",
    "MIMIC_SOFA['encounter_id'] = MIMIC_SOFA['encounter_id'].astype(str)\n",
    "\n",
    "MIMIC_SOFA['icu_intime'] = pd.to_datetime(MIMIC_SOFA['icu_intime'],utc=True)\n",
    "MIMIC_SOFA['icu_outtime'] = pd.to_datetime(MIMIC_SOFA['icu_outtime'],utc=True)\n",
    "MIMIC_SOFA['SOFA_start'] = pd.to_datetime(MIMIC_SOFA['SOFA_start'],utc=True)\n",
    "MIMIC_SOFA['SOFA_end'] = pd.to_datetime(MIMIC_SOFA['SOFA_end'],utc=True)"
   ]
  },
  {
   "cell_type": "markdown",
   "metadata": {},
   "source": [
    "### Remove cultures with only date if used for SOI in MIMIC"
   ]
  },
  {
   "cell_type": "code",
   "execution_count": null,
   "metadata": {},
   "outputs": [],
   "source": [
    "raw_cxdf = pd.read_sql('''WITH cx AS (select micro_specimen_id\n",
    "    -- the following columns are identical for all rows of the same micro_specimen_id\n",
    "    -- these aggregates simply collapse duplicates down to 1 row\n",
    "    , MAX(subject_id) AS subject_id\n",
    "    , MAX(hadm_id) AS hadm_id\n",
    "    , CAST(MAX(chartdate) AS DATE) AS chartdate\n",
    "    , MAX(charttime) AS charttime\n",
    "    , MAX(spec_type_desc) AS spec_type_desc\n",
    "    , max(case when org_name is not null and org_name != '' then 1 else 0 end) as PositiveCulture\n",
    "  from mimic_hosp.microbiologyevents\n",
    "  group by micro_specimen_id)\n",
    "  SELECT * FROM cx''',cnx)"
   ]
  },
  {
   "cell_type": "code",
   "execution_count": null,
   "metadata": {},
   "outputs": [],
   "source": [
    "no_time = raw_cxdf[raw_cxdf['charttime'].isna()][['subject_id','chartdate','spec_type_desc']].rename(columns={'subject_id':'patient_id','chartdate':'culture_time','spec_type_desc':'specimen'}).reset_index(drop=True)\n",
    "no_time['patient_id'] = no_time['patient_id'].astype(str)\n",
    "no_time['culture_time'] = pd.to_datetime(no_time['culture_time'],utc=True)"
   ]
  },
  {
   "cell_type": "code",
   "execution_count": null,
   "metadata": {},
   "outputs": [],
   "source": [
    "df = raw_cxdf.copy()\n",
    "df.loc[df['charttime'].isna(),'charttime'] = df.loc[df['charttime'].isna(),'chartdate']\n",
    "\n",
    "df['charttime'] = pd.to_datetime(df['charttime'],utc=True)\n",
    "df['subject_id'] = df['subject_id'].astype(str)\n",
    "\n",
    "df = df[['subject_id','charttime']].rename(columns={'subject_id':'patient_id','charttime':'culture_time'})\n",
    "\n",
    "included_cx = pd.merge(MIMIC_SOI,df,on = ['patient_id','culture_time'],how='inner')"
   ]
  },
  {
   "cell_type": "code",
   "execution_count": null,
   "metadata": {},
   "outputs": [],
   "source": [
    "SOI_by_date = pd.merge(no_time,included_cx, on = ['patient_id','culture_time'], how='inner')[['patient_id','encounter_id', 'culture_time']]"
   ]
  },
  {
   "cell_type": "code",
   "execution_count": null,
   "metadata": {},
   "outputs": [],
   "source": [
    "MSep_3 = MSep_3[~MSep_3['patient_id'].isin(SOI_by_date['patient_id'])].reset_index(drop=True)\n",
    "MIMIC_SOI = MIMIC_SOI[~MIMIC_SOI['patient_id'].isin(SOI_by_date['patient_id'])].reset_index(drop=True)\n",
    "\n",
    "Sep_3 = Sep_3[~Sep_3['patient_id'].isin(SOI_by_date['patient_id'])].reset_index(drop=True)\n",
    "SOI_trim = SOI_trim[~SOI_trim['patient_id'].isin(SOI_by_date['patient_id'])].reset_index(drop=True)"
   ]
  },
  {
   "cell_type": "markdown",
   "metadata": {},
   "source": [
    "### Take only First SOI"
   ]
  },
  {
   "cell_type": "code",
   "execution_count": null,
   "metadata": {},
   "outputs": [],
   "source": [
    "SOI_trim = SOI_trim.sort_values(by='SOITime').groupby('encounter_id').first().reset_index() #take only first SOI\n",
    "Sep_3 = pd.merge(Sep_3,SOI_trim[['patient_id','encounter_id','SOITime']],on=['patient_id','encounter_id','SOITime'],how='inner').reset_index(drop=True)\n",
    "\n",
    "MIMIC_SOI = MIMIC_SOI.sort_values(by='suspected_infection_time').groupby('encounter_id').first().reset_index() #take only first SOI\n",
    "MSep_3 = pd.merge(MSep_3,MIMIC_SOI[['patient_id','encounter_id','suspected_infection_time']],on=['patient_id','encounter_id','suspected_infection_time'],how='inner').reset_index(drop=True)"
   ]
  },
  {
   "cell_type": "markdown",
   "metadata": {},
   "source": [
    "### Check Overlap Between Definitions"
   ]
  },
  {
   "cell_type": "code",
   "execution_count": null,
   "metadata": {},
   "outputs": [],
   "source": [
    "Sepsis_codes = data['ICD_codes'].copy().rename(columns=names_to_standard)\n",
    "\n",
    "\n",
    "set1 = set(Sep_3['encounter_id'].astype(str))\n",
    "set2 = set(MSep_3['encounter_id'].astype(str))\n",
    "set3 = set(Sepsis_codes['encounter_id'].astype(str))\n",
    "\n",
    "venn3([set1, set2,set3], ('Python SOFA Score', 'MIMIC SQL SOFA Score','ICD Code For Sepsis'))\n",
    "\n",
    "plt.title('Sepsis Definition Overlap',fontsize=20)\n",
    "plt.savefig('Figure 3.jpeg')\n",
    "plt.show()"
   ]
  },
  {
   "cell_type": "markdown",
   "metadata": {},
   "source": [
    "### Look at Differences Again without ICD Codes"
   ]
  },
  {
   "cell_type": "code",
   "execution_count": null,
   "metadata": {},
   "outputs": [],
   "source": [
    "colors = {'ICU': '#e31a1c', 'non-ICU':'#1f78b4','mimic':'#6a3d9a','python':'#33a02c'}"
   ]
  },
  {
   "cell_type": "code",
   "execution_count": null,
   "metadata": {},
   "outputs": [],
   "source": [
    "set1 = set(Sep_3['encounter_id'].astype(str))\n",
    "set2 = set(MSep_3['encounter_id'].astype(str))\n",
    "\n",
    "venn2([set1, set2], ('Python Pipeline', 'SQL Pipeline'),set_colors=(colors['python'], colors['mimic']), alpha = 0.9)\n",
    "\n",
    "plt.title('Sepsis Definition Overlap',fontsize=20)\n",
    "plt.savefig('Figure 2.jpeg')\n",
    "plt.show()"
   ]
  },
  {
   "cell_type": "markdown",
   "metadata": {},
   "source": [
    "### Overlap Exploration"
   ]
  },
  {
   "cell_type": "code",
   "execution_count": null,
   "metadata": {},
   "outputs": [],
   "source": [
    "def find_overlap(df):\n",
    "    return pd.merge(all_enc,df,on=['patient_id','encounter_id'],how='inner').drop_duplicates()"
   ]
  },
  {
   "cell_type": "code",
   "execution_count": null,
   "metadata": {},
   "outputs": [],
   "source": [
    "def find_only(df,pipeline):\n",
    "    if pipeline == 'MIMIC':\n",
    "        col_keep = 'suspected_infection_time'\n",
    "        col_rid ='SOITime'\n",
    "    elif pipeline == 'python':\n",
    "        col_keep = 'SOITime'\n",
    "        col_rid ='suspected_infection_time'\n",
    "    else:\n",
    "        print('Select MIMIC or python for pipeline')\n",
    "        return\n",
    "    \n",
    "    df= df.dropna(subset=[col_keep]).reset_index(drop=True)\n",
    "    df= df[df[col_rid].isna()]\n",
    "    df = df[['patient_id','encounter_id']].drop_duplicates()\n",
    "    return df\n",
    "        "
   ]
  },
  {
   "cell_type": "code",
   "execution_count": null,
   "metadata": {},
   "outputs": [],
   "source": [
    "all_enc = adt.copy()[['patient_id','encounter_id']].drop_duplicates().reset_index(drop=True)\n",
    "\n",
    "MIMIC_SOI_trim = MIMIC_SOI.copy()[['patient_id','encounter_id','antibiotic_time','suspected_infection_time','culture_time']].drop_duplicates()\n",
    "\n",
    "py_SOI_trim = SOI_trim.copy()[['patient_id','encounter_id','abx_start','culture_time','SOITime']].drop_duplicates().rename(\n",
    "    columns= {'abx_start':'abx_start_py','culture_time':'culture_time_py','SOITime':'SOITime'})\n",
    "\n",
    "MIMIC_SOI_found = find_overlap(MIMIC_SOI_trim)\n",
    "SOI_py_found = find_overlap(py_SOI_trim)\n",
    "\n",
    "all_found = pd.merge(SOI_py_found,MIMIC_SOI_found, on= ['patient_id','encounter_id'],how='outer')\n",
    "all_found['found'] = 1\n",
    "\n",
    "not_found = pd.merge(all_found,all_enc,on= ['patient_id','encounter_id'],how='outer')\n",
    "not_found = not_found[not_found['found'].isna()][['patient_id','encounter_id']].drop_duplicates()\n",
    "\n",
    "\n",
    "found_by_both = all_found.dropna().reset_index(drop=True)\n",
    "\n",
    "found_by_both['time_diff'] = (found_by_both['suspected_infection_time'] - found_by_both['SOITime']).apply(lambda z: z.total_seconds()/3600)\n",
    "\n",
    "found_by_both_same_time = found_by_both[found_by_both['time_diff']==0][['patient_id','encounter_id']].drop_duplicates()\n",
    "found_by_both_py_before_MIM = found_by_both[found_by_both['time_diff']>0][['patient_id','encounter_id']].drop_duplicates()\n",
    "found_by_both_MIM_before_py = found_by_both[found_by_both['time_diff']<0][['patient_id','encounter_id']].drop_duplicates()\n",
    "\n",
    "found_by_both = found_by_both[['patient_id','encounter_id']].drop_duplicates()\n",
    "\n",
    "only_MIMIC = find_only(all_found,'MIMIC')\n",
    "only_py = find_only(all_found,'python')\n",
    "all_found = all_found[['patient_id','encounter_id']].drop_duplicates()\n",
    "\n",
    "\n",
    "assert len(all_found) + len(not_found) == len(all_enc)\n",
    "assert len(found_by_both_same_time) + len(found_by_both_py_before_MIM) + len(found_by_both_MIM_before_py) == len(found_by_both)\n",
    "assert len(only_MIMIC) + len(only_py) + len(found_by_both_same_time) + len(found_by_both_py_before_MIM) + len(found_by_both_MIM_before_py) + len(not_found) == len(all_enc)"
   ]
  },
  {
   "cell_type": "code",
   "execution_count": null,
   "metadata": {},
   "outputs": [],
   "source": [
    "all_Sep = pd.merge(MSep_3,Sep_3,on=['patient_id','encounter_id'],how='outer')\n",
    "both_Sep = all_Sep.dropna()\n",
    "Sep_MIM_not_py = find_only(all_Sep,'MIMIC')\n",
    "Sep_py_not_mim = find_only(all_Sep,'python')"
   ]
  },
  {
   "cell_type": "code",
   "execution_count": null,
   "metadata": {},
   "outputs": [],
   "source": [
    "SOIs= {'All Encounters':all_enc,\n",
    " 'All SOI':all_found,\n",
    " 'No SOI':not_found,\n",
    " 'SOI by Both':found_by_both,\n",
    " 'SOI by Python Only':only_py,\n",
    " 'SOI by SQL Only':only_MIMIC,\n",
    " 'Python SOI Before SQL':found_by_both_py_before_MIM,\n",
    " 'SQL SOI Before Python':found_by_both_MIM_before_py,\n",
    " 'SOI at Same Time':found_by_both_same_time}\n",
    "\n"
   ]
  },
  {
   "cell_type": "code",
   "execution_count": null,
   "metadata": {},
   "outputs": [],
   "source": [
    "result = {}\n",
    "for group in SOIs:\n",
    "    \n",
    "    \n",
    "    both_sepsis = pd.merge(SOIs[group],both_Sep, on= ['patient_id','encounter_id'],how='inner')[['encounter_id','patient_id']].drop_duplicates()\n",
    "    no_sep = SOIs[group][~SOIs[group]['encounter_id'].isin(all_Sep['encounter_id'].astype(str))][['encounter_id','patient_id']].drop_duplicates()\n",
    "    \n",
    "    py_sepsis = pd.merge(SOIs[group],Sep_py_not_mim, on=['patient_id','encounter_id'],how='inner')[['encounter_id','patient_id']].drop_duplicates()\n",
    "    \n",
    "    mim_sepsis = pd.merge(SOIs[group],Sep_MIM_not_py, on=['patient_id','encounter_id'],how='inner')[['encounter_id','patient_id']].drop_duplicates()\n",
    "\n",
    "\n",
    "    assert len(both_sepsis)+len(py_sepsis)+len(mim_sepsis)+ len(no_sep) == len(SOIs[group])\n",
    "\n",
    "\n",
    "    result[group] = [len(SOIs[group]),len(both_sepsis),len(no_sep),len(py_sepsis),len(mim_sepsis)]\n",
    "result = pd.DataFrame(result).T.reset_index().rename(columns = {'index':'group',0:'total',1:'Sepsis by Both',2:'Not_Septic',3:'Python Only Sepsis',4:'SQL Only Sepsis'})"
   ]
  },
  {
   "cell_type": "code",
   "execution_count": null,
   "metadata": {},
   "outputs": [],
   "source": [
    "dfs_for_review = SOIs\n",
    "dfs_for_review['Not Septic'] = no_sep\n",
    "dfs_for_review['Speptic by Both'] = both_sepsis\n",
    "dfs_for_review['Septic by Python Only'] = py_sepsis\n",
    "dfs_for_review['Septic by SQL Only'] = mim_sepsis \n"
   ]
  },
  {
   "cell_type": "code",
   "execution_count": null,
   "metadata": {},
   "outputs": [],
   "source": [
    "\n",
    "result = result.append(pd.Series(['Not Septic',result['Not_Septic'][0]],index= result.columns[0:2]),ignore_index=True)\n",
    "result = result.append(pd.Series(['Septic By Both',result['Sepsis by Both'][0]],index= result.columns[0:2]),ignore_index=True)\n",
    "result = result.append(pd.Series(['Septic by Python Only',result['Python Only Sepsis'][0]],index= result.columns[0:2]),ignore_index=True)\n",
    "result = result.append(pd.Series(['Septic by SQL Only',result['SQL Only Sepsis'][0]],index= result.columns[0:2]),ignore_index=True)\n"
   ]
  },
  {
   "cell_type": "code",
   "execution_count": null,
   "metadata": {},
   "outputs": [],
   "source": [
    "result.fillna(0)"
   ]
  },
  {
   "cell_type": "code",
   "execution_count": null,
   "metadata": {},
   "outputs": [],
   "source": [
    "labels = ['All Encounters','All SOI','No SOI','SOI by Both','SOI by Python Only','SOI by SQL Only','Python SOI Before SQL','SQL SOI Before Python','SOI at Same Time','Not Septic',\n",
    "               'Septic By Both','Septic by Python Only', 'Septic by SQL Only']\n",
    "total = result['total'][0]\n",
    "\n",
    "labs = []\n",
    "for i,label in enumerate(result['group']):\n",
    "    count = round(result['total'][i])\n",
    "    percent = round(count*100/total)\n",
    "    labs.append(label + f' ({percent}%) <br>{count:,}  ')"
   ]
  },
  {
   "cell_type": "code",
   "execution_count": null,
   "metadata": {},
   "outputs": [],
   "source": [
    "\n",
    "fig = go.Figure(data=[go.Sankey(\n",
    "    node = dict(\n",
    "      pad = 15,\n",
    "      thickness = 20,\n",
    "      line = dict(color = \"black\"),\n",
    "      label = labs,\n",
    "      color = '#377eb8'\n",
    "    ),\n",
    "    link = dict(\n",
    "      source = [0,0,0,0,3,3,3,2,4,5,6,7,8,6 ,7 ,8 ,4 ,6 ,7 ,8 ,5, 6, 7, 8 ], # indices correspond to labels,\n",
    "      target = [2,3,4,5,6,7,8,9,9,9,9,9,9,10,10,10,11,11,11,11,12,12,12,12  ],\n",
    "      value = [result['total'][2],result['total'][3],result['total'][4],result['total'][5],result['total'][6],result['total'][7],result['total'][8],result['Not_Septic'][2],result['Not_Septic'][4],\n",
    "               result['Not_Septic'][5],result['Not_Septic'][6],result['Not_Septic'][7],result['Not_Septic'][8],result['Sepsis by Both'][6],result['Sepsis by Both'][7],result['Sepsis by Both'][8],\n",
    "              result['Python Only Sepsis'][4],result['Python Only Sepsis'][6],result['Python Only Sepsis'][7],result['Python Only Sepsis'][8],result['SQL Only Sepsis'][5],result['SQL Only Sepsis'][6],\n",
    "              result['SQL Only Sepsis'][7], result['SQL Only Sepsis'][8]]\n",
    "  ))])\n",
    "\n",
    "fig.update_layout(title_text=\"Agreement of The Pipelines by Step\", font_size=12,height = 700, width=1500, margin = dict(l=30,r=30,t=40,b=40,pad=10))\n",
    "\n",
    "fig.write_image(\"fig2.png\")\n",
    "fig.show()\n"
   ]
  },
  {
   "cell_type": "markdown",
   "metadata": {},
   "source": [
    "### Score Overlaps"
   ]
  },
  {
   "cell_type": "code",
   "execution_count": null,
   "metadata": {},
   "outputs": [],
   "source": [
    "def r2(x, y):\n",
    "    return stats.pearsonr(x, y)[0] ** 2\n",
    "\n",
    "def plot_corr(df,x,y):\n",
    "    sns.jointplot(x=x, y=y ,data=df,kind='hex')\n",
    "    rsq = r2(df[x],df[y])\n",
    "    print('R Squared: {:.2f}'.format(rsq))\n",
    "    plt.show()"
   ]
  },
  {
   "cell_type": "code",
   "execution_count": null,
   "metadata": {},
   "outputs": [],
   "source": [
    "def plot_corr2(ax,df,x,y,vmin=None,vmax=None,reindex=False):\n",
    "    \n",
    "    X = df[x]\n",
    "    Y = df[y]\n",
    "    \n",
    "    rsq = round(r2(X,Y),2)\n",
    "\n",
    "    \n",
    "    cols_keep = [x,y]\n",
    "    df_fig = df[cols_keep].reset_index(drop=True)\n",
    "    for col in df_fig.columns:\n",
    "        df_fig[col] = df_fig[col].apply(lambda x: round(x))\n",
    "        \n",
    "    df_fig = df_fig.reset_index().rename(columns={'index':'count'})\n",
    "    df_fig = df_fig.groupby([x,y])['count'].count().reset_index()\n",
    "    \n",
    "    df_fig = df_fig.pivot(columns=x,index=y, values='count')\n",
    "    \n",
    "    xmax = df_fig.columns.max()\n",
    "    ymax = df_fig.index.max()\n",
    "    \n",
    "    if xmax > 100:\n",
    "        df_fig = df_fig.reindex(columns= list(range(-24,121)),fill_value = np.nan)\n",
    "        df_fig = df_fig.reindex(list(range(-24,121)),fill_value=np.nan)\n",
    "    \n",
    "    elif xmax >10:\n",
    "        df_fig = df_fig.reindex(columns= list(range(0,25)),fill_value = np.nan)\n",
    "        df_fig = df_fig.reindex(list(range(0,25)),fill_value=np.nan)\n",
    "    else:\n",
    "        df_fig = df_fig.reindex(columns= list(range(0,5)),fill_value = np.nan)\n",
    "        df_fig = df_fig.reindex(list(range(0,5)),fill_value=np.nan)\n",
    "        \n",
    "    \n",
    "    df_fig.fillna(0,inplace=True)\n",
    "    \n",
    "    df_fig = df_fig.iloc[::-1]\n",
    "    \n",
    "\n",
    "    \n",
    "    #display(df_fig)\n",
    "    if vmax is None:\n",
    "        vmin=0\n",
    "        vmax= np.percentile(df_fig.to_numpy(),95)\n",
    "    \n",
    "    cmap=sns.color_palette(\"light:b\", as_cmap=True)\n",
    "    \n",
    "    if xmax >100: \n",
    "        sns.regplot(ax = ax,data=df,x='SOITime_from_start',y='suspected_infection_time_from_start',marker='+',color=sns.color_palette(\"light:b\")[2],line_kws={'color':sns.color_palette(\"light:b\")[4]})\n",
    "        ax.set_xlim((-24,240))\n",
    "        ax.set_ylim((-24,240))\n",
    "\n",
    "    \n",
    "    elif xmax > 10:\n",
    "        sns.heatmap(df_fig,cbar=False,vmin=vmin,vmax=vmax,square=True,cmap=cmap, xticklabels=3, yticklabels=3,ax= ax)\n",
    "    \n",
    "    else:\n",
    "        sns.heatmap(df_fig,cbar=False,vmin=vmin,vmax=vmax,square=True,cmap=cmap, xticklabels=1, yticklabels=1,ax= ax)\n",
    "    \n",
    "\n",
    "        \n",
    "    #plt.gcf().set_size_inches(10,10)\n",
    "    return rsq,xmax,ymax"
   ]
  },
  {
   "cell_type": "code",
   "execution_count": null,
   "metadata": {},
   "outputs": [],
   "source": [
    "compare_onset = pd.merge(Sep_3[['encounter_id','SOITime','score_time']],MSep_3[['encounter_id','suspected_infection_time','sofa_time']],on='encounter_id',how='outer')\n",
    "compare_onset = pd.merge(compare_onset,adt.groupby('encounter_id').agg({'location_start':'first','location_end':'last'}).reset_index(),on='encounter_id',how='left')\n",
    "for col in ['SOITime', 'score_time', 'suspected_infection_time', 'sofa_time']:\n",
    "    compare_onset[f'{col}_from_start'] = (compare_onset[col] - compare_onset['location_start']).apply(lambda x: x.total_seconds()/3600)\n",
    "compare_onset.dropna(inplace=True)"
   ]
  },
  {
   "cell_type": "code",
   "execution_count": null,
   "metadata": {},
   "outputs": [],
   "source": [
    "RTI_py = RTI_full[['encounter_id', 'score_time', 'SOFA_BILI_Score','SOFA_MAP_Score','SOFA_GCS_Score','SOFA_PLT_Score','SOFA_RENAL_Score','SOFA_RESP_Score', 'SOFA_Score']].reset_index(drop=True)\n",
    "RTI_py.sort_values(by='score_time',inplace=True)"
   ]
  },
  {
   "cell_type": "code",
   "execution_count": null,
   "metadata": {},
   "outputs": [],
   "source": [
    "RTI_mimic = MIMIC_SOFA[['encounter_id','SOFA_end','liver_24hours','cardiovascular_24hours','cns_24hours','coagulation_24hours','renal_24hours','respiration_24hours', 'sofa_24hours']].rename(columns = {'SOFA_end':'score_time'})\n",
    "RTI_mimic.sort_values(by='score_time',inplace=True)\n",
    "RTI_mimic.dropna(inplace=True)"
   ]
  },
  {
   "cell_type": "code",
   "execution_count": null,
   "metadata": {},
   "outputs": [],
   "source": [
    "Subscores= {\n",
    "    'CNS' : ['SOFA_GCS_Score','cns_24hours'],\n",
    "    'Liver':['SOFA_BILI_Score','liver_24hours'],\n",
    "    'Cardiovascular' : ['SOFA_MAP_Score','cardiovascular_24hours'],\n",
    "    'Coagulation' : ['SOFA_PLT_Score','coagulation_24hours'],\n",
    "    'Renal' : ['SOFA_RENAL_Score','renal_24hours'],\n",
    "    'Respiratory' : ['SOFA_RESP_Score','respiration_24hours'],\n",
    "    'Total' : ['SOFA_Score','sofa_24hours']\n",
    "    }"
   ]
  },
  {
   "cell_type": "code",
   "execution_count": null,
   "metadata": {},
   "outputs": [],
   "source": [
    "score_compare = pd.merge_asof(RTI_mimic,RTI_py,on='score_time',by='encounter_id',tolerance=pd.Timedelta('1h'), allow_exact_matches=True, direction='nearest')\n",
    "\n",
    "\n",
    "cols = ['SOFA_BILI_Score', 'SOFA_MAP_Score', 'SOFA_GCS_Score', 'SOFA_PLT_Score', 'SOFA_RENAL_Score', 'SOFA_RESP_Score', 'SOFA_Score',\n",
    "        'liver_24hours', 'cardiovascular_24hours', 'cns_24hours', 'coagulation_24hours', 'renal_24hours', 'respiration_24hours', 'sofa_24hours']\n",
    "\n",
    "score_compare = score_compare.dropna(subset=cols,how='all').dropna()\n",
    "\n"
   ]
  },
  {
   "cell_type": "code",
   "execution_count": null,
   "metadata": {},
   "outputs": [],
   "source": [
    "print(f'Total Included Encounters: {score_compare.encounter_id.nunique():,}')"
   ]
  },
  {
   "cell_type": "code",
   "execution_count": null,
   "metadata": {},
   "outputs": [],
   "source": [
    "print(f'Total SOFA Scores Compared: {len(score_compare):,}')"
   ]
  },
  {
   "cell_type": "code",
   "execution_count": null,
   "metadata": {},
   "outputs": [],
   "source": [
    "score_compare.groupby('encounter_id')['score_time'].count().reset_index()['score_time'].describe()"
   ]
  },
  {
   "cell_type": "code",
   "execution_count": null,
   "metadata": {},
   "outputs": [],
   "source": []
  },
  {
   "cell_type": "code",
   "execution_count": null,
   "metadata": {},
   "outputs": [],
   "source": [
    "sns.set(rc={'axes.facecolor':sns.color_palette(\"light:b\")[0],'axes.grid' : False})"
   ]
  },
  {
   "cell_type": "code",
   "execution_count": null,
   "metadata": {},
   "outputs": [],
   "source": [
    "gs_kw = dict(width_ratios=[1,1,1,1,1,1], height_ratios=[1,1,1.5,.1],hspace=.1)\n",
    "\n",
    "\n",
    "layout = [['subscore 1', 'subscore 1', 'subscore 2', 'subscore 2','subscore 3','subscore 3'],\n",
    "          ['subscore 4', 'subscore 4', 'subscore 5', 'subscore 5','subscore 6','subscore 6'],\n",
    "          ['SOFA corr', 'SOFA corr', 'SOFA corr', 'Sepsis corr','Sepsis corr','Sepsis corr'],\n",
    "          ['cmap', 'cmap', 'cmap', 'cmap','cmap','cmap']]\n",
    "\n",
    "sub_label = [ 'CNS','Liver','Cardiovascular','Coagulation','Renal','Respiratory']\n",
    "\n",
    "\n",
    "fig, axes = plt.subplot_mosaic(layout,\n",
    "                              gridspec_kw=gs_kw, figsize=(13, 15),\n",
    "                              constrained_layout=True)\n",
    "\n",
    "\n",
    "x = 0\n",
    "for subplot in axes:\n",
    "    \n",
    "    if 'subscore' in subplot:\n",
    "\n",
    "        rsq,xmax,ymax = plot_corr2(axes[subplot],score_compare,Subscores[sub_label[x]][0],Subscores[sub_label[x]][1])\n",
    "        axes[subplot].text(xmax*0.1 ,ymax*0.1, f'R\\u00b2: {rsq}',fontsize=10, color='black')\n",
    "        axes[subplot].set_title(f'{sub_label[x]} Subscore',fontsize=12)\n",
    "        axes[subplot].set_xlabel(f'{sub_label[x]} Subscore per Python Pipeline',fontsize=10)\n",
    "        axes[subplot].set_ylabel(f'{sub_label[x]} Subscore per MIMIC Pipeline',fontsize=10)\n",
    "        \n",
    "        x= x+1\n",
    "\n",
    "        \n",
    "    elif 'Sepsis' in subplot:\n",
    "\n",
    "        rsq,xmax,ymax = plot_corr2(axes[subplot],compare_onset,'SOITime_from_start','suspected_infection_time_from_start')\n",
    "        axes[subplot].set_xticks(np.arange(-24,240.1,24))\n",
    "        axes[subplot].set_yticks(np.arange(-24,240.1,24))\n",
    "        axes[subplot].set_aspect('equal', adjustable='box')\n",
    "        axes[subplot].text(240*0.05 ,240*0.9, f'R\\u00b2: {rsq:.2f}',fontsize=10, color='black')\n",
    "        axes[subplot].set_title('Sepsis Onset Times',fontsize=16)\n",
    "        axes[subplot].set_xlabel('Sepsis Onset Time per Python Pipeline \\n(Hours from Admission)',fontsize=14)\n",
    "        axes[subplot].set_ylabel('Sepsis Onset Time per MIMIC \\n(Hours from Admission)',fontsize=14)\n",
    "\n",
    "    \n",
    "    elif 'SOFA' in subplot:\n",
    "        rsq,xmax,ymax = plot_corr2(axes[subplot],score_compare,Subscores['Total'][0],Subscores['Total'][1])\n",
    "        axes[subplot].text(xmax*0.1 ,ymax*0.1, f'R\\u00b2: {rsq:.2f}',fontsize=10, color='black')\n",
    "        axes[subplot].set_title('Total SOFA Scores',fontsize=16)\n",
    "        axes[subplot].set_xlabel('SOFA Score per Python Pipeline',fontsize=14)\n",
    "        axes[subplot].set_ylabel('SOFA Score per MIMIC',fontsize=14)\n",
    "\n",
    "    elif 'cmap' in subplot:\n",
    "        cmap = plt.cm.get_cmap(sns.color_palette(\"light:b\", as_cmap=True))\n",
    "        colors = cmap(np.arange(cmap.N))\n",
    "        axes[subplot].imshow([colors], extent=[0, 100, 0, 2])\n",
    "        axes[subplot].set_xticks([0,100])\n",
    "        axes[subplot].set_xticklabels(['Low Count','High Count'])\n",
    "        axes[subplot].set_yticks([])\n",
    "    \n",
    "fig.suptitle('Distribution and Correlation of SOFA Scores and Sepsis Onset\\n',fontsize=24)\n",
    "plt.savefig('Figure 3.jpeg')\n",
    "plt.show()"
   ]
  },
  {
   "cell_type": "markdown",
   "metadata": {},
   "source": [
    "### Create DataFrame to Eval for Sepsis Differences:"
   ]
  },
  {
   "cell_type": "code",
   "execution_count": null,
   "metadata": {},
   "outputs": [],
   "source": [
    "compare_frame = pd.DataFrame()\n",
    "adt['duration'] = (adt['location_end'] - adt['location_start']).apply(lambda z: z.total_seconds()/3600) #duration for all phases of admission in hours\n",
    "compare_frame = adt.groupby(['patient_id','encounter_id']).agg({'duration':lambda x: list(x),'loc_cat':lambda x: list(x)}).reset_index()#roll up into lists\n",
    "compare_frame = pd.merge(compare_frame,adt.groupby(['patient_id','encounter_id']).agg({'location_start':'min','location_end':'max'}).reset_index(),on=['patient_id','encounter_id'])#take first admit and last discharge as admit and dicharge for the encounter\n",
    "compare_frame.rename(columns= {'location_start':'admit_time', 'location_end':'discharge_time'},inplace=True)\n",
    "\n",
    "find_cx = pd.merge(compare_frame,cxdf[['patient_id','culture_time','culture_type']],on='patient_id',how='left')#final all cultures associated with the patient\n",
    "\n",
    "find_cx['time_from_admit'] = (find_cx['culture_time'] - find_cx['admit_time']).apply(lambda z: z.total_seconds()/3600)\n",
    "find_cx['time_from_disch'] = (find_cx['culture_time'] - find_cx['discharge_time']).apply(lambda z: z.total_seconds()/3600)\n",
    "find_cx = find_cx[(find_cx['time_from_admit'] >= -72) & (find_cx['time_from_disch']< 0)].drop(columns=['time_from_admit','time_from_disch']) #exclude cultures more than 72 hours before admission or that occur after discharge\n",
    "find_cx = find_cx.sort_values(by=['patient_id','encounter_id','culture_time'])\n",
    "culture_lists = find_cx.groupby(['patient_id', 'encounter_id']).agg({'culture_time':lambda x: list(x),'culture_type':lambda x: list(x)}).reset_index()#roll up into lists after sorting by time\n",
    "culture_lists = culture_lists.rename(columns={'culture_time':'python_culture_time','culture_type':'python_specimen'})\n",
    "\n",
    "find_abx = pd.merge(compare_frame,abxdf[['patient_id','antibiotic_name', 'route', 'abx_start']],on='patient_id',how='left')\n",
    "find_abx['time_from_admit'] = (find_abx['abx_start'] - find_abx['admit_time']).apply(lambda z: z.total_seconds()/3600)\n",
    "find_abx['time_from_disch'] = (find_abx['abx_start'] - find_abx['discharge_time']).apply(lambda z: z.total_seconds()/3600)\n",
    "find_abx = find_abx.sort_values(by=['patient_id', 'encounter_id','abx_start'])\n",
    "find_abx = find_abx[(find_abx['time_from_admit'] >= -72) & (find_abx['time_from_disch']< 0)].drop(columns=['time_from_admit','time_from_disch'])#exclude abx more than 72 hours before admission or that occur after discharge\n",
    "abx_lists = find_abx.groupby(['patient_id', 'encounter_id']).agg({'abx_start':lambda x: list(x),'antibiotic_name':lambda x: list(x)}).reset_index()#roll up into list\n",
    "abx_lists = abx_lists.rename(columns={'abx_start':'python_antibotic_time','antibiotic_name':'python_antibotic'})\n",
    "\n",
    "MIMIC_SOI = MIMIC_SOI[['patient_id','encounter_id', 'antibiotic_name', 'antibiotic_time','suspected_infection', 'suspected_infection_time', 'culture_time', 'specimen']]\n",
    "#MIMIC_SOI = MIMIC_SOI.groupby(['patient_id', 'encounter_id']).agg({'antibiotic_name': lambda x: list(x), 'antibiotic_time' : lambda x: list(x), 'suspected_infection' : lambda x: list(x) ,'suspected_infection_time': lambda x: list(x),\n",
    "                                                 #'culture_time': lambda x: list(x), 'specimen': lambda x: list(x)}).reset_index()#roll into list\n",
    "\n",
    "new_names = {}\n",
    "for col in ['antibiotic_name', 'antibiotic_time', 'suspected_infection', 'suspected_infection_time', 'culture_time', 'specimen']:\n",
    "    new_names[col] = 'MIMIC_'+col\n",
    "    \n",
    "MIMIC_SOI = MIMIC_SOI.rename(columns=new_names)\n",
    "\n",
    "CX_MIMIC =MIMIC_SOI[['patient_id','encounter_id','MIMIC_culture_time','MIMIC_specimen']]\n",
    "CX_MIMIC = CX_MIMIC.dropna().drop_duplicates().reset_index(drop=True)\n",
    "CX_MIMIC = CX_MIMIC.groupby(['patient_id', 'encounter_id']).agg({'MIMIC_culture_time': lambda x: list(x), 'MIMIC_specimen': lambda x: list(x)}).reset_index()\n",
    "\n",
    "\n",
    "ABX_MIMIC= MIMIC_SOI[['patient_id','encounter_id','MIMIC_antibiotic_name','MIMIC_antibiotic_time']]\n",
    "ABX_MIMIC = ABX_MIMIC.dropna().drop_duplicates().reset_index(drop=True)\n",
    "ABX_MIMIC = ABX_MIMIC.groupby(['patient_id', 'encounter_id']).agg({'MIMIC_antibiotic_name': lambda x: list(x), 'MIMIC_antibiotic_time' : lambda x: list(x)})\n",
    "\n",
    "MIMIC_SOI_trim = MIMIC_SOI[['patient_id','encounter_id','MIMIC_suspected_infection_time']]\n",
    "MIMIC_SOI_trim = MIMIC_SOI_trim.dropna().drop_duplicates().reset_index(drop=True)\n",
    "MIMIC_SOI_trim = MIMIC_SOI_trim.groupby(['patient_id', 'encounter_id']).agg({'MIMIC_suspected_infection_time': lambda x: list(x)})\n"
   ]
  },
  {
   "cell_type": "code",
   "execution_count": null,
   "metadata": {},
   "outputs": [],
   "source": [
    "final = compare_frame.copy()\n",
    "for df in [culture_lists,abx_lists,MIMIC_SOI_trim,CX_MIMIC,ABX_MIMIC]:\n",
    "    final = pd.merge(final,df,on=['patient_id','encounter_id'],how='left')\n",
    "\n",
    "    \n",
    "list_cols = ['duration', 'loc_cat','python_culture_time', 'python_specimen', 'python_antibotic_time', 'python_antibotic', 'MIMIC_antibiotic_name', \n",
    "             'MIMIC_antibiotic_time', 'MIMIC_suspected_infection_time', 'MIMIC_culture_time', 'MIMIC_specimen']    \n",
    "for col in list_cols:\n",
    "    final[col] = final[col].apply(lambda d: d if isinstance(d, list) else []) #if not a list make it an empty list "
   ]
  },
  {
   "cell_type": "code",
   "execution_count": null,
   "metadata": {},
   "outputs": [],
   "source": []
  },
  {
   "cell_type": "markdown",
   "metadata": {},
   "source": [
    "### Create DataFrames to Evaluate Score Differences"
   ]
  },
  {
   "cell_type": "code",
   "execution_count": null,
   "metadata": {},
   "outputs": [],
   "source": [
    "py_RTI_SOFA = pd.merge(final[['patient_id', 'encounter_id', 'duration', 'loc_cat', 'admit_time', 'discharge_time']],python_SOFA.sort_values(by=['patient_id','encounter_id','score_time']),on=['patient_id', 'encounter_id'],how='left')\n",
    "py_RTI_SOFA['duration']= (py_RTI_SOFA['score_time'] - py_RTI_SOFA['admit_time']).apply(lambda z: z.total_seconds()/3600)\n",
    "\n",
    "\n",
    "mimic_RTI = pd.merge(final[['patient_id', 'encounter_id', 'duration', 'loc_cat', 'admit_time', 'discharge_time']],MIMIC_SOFA.sort_values(by=['patient_id','encounter_id','SOFA_end']),on=['patient_id', 'encounter_id'],how='left')\n",
    "mimic_RTI['duration']= (mimic_RTI['SOFA_end'] - mimic_RTI['admit_time']).apply(lambda z: z.total_seconds()/3600)"
   ]
  },
  {
   "cell_type": "code",
   "execution_count": null,
   "metadata": {},
   "outputs": [],
   "source": [
    "mimic_scores = mimic_RTI[['patient_id', 'encounter_id', 'duration','liver_24hours','cardiovascular_24hours','cns_24hours','coagulation_24hours','renal_24hours','respiration_24hours','sofa_24hours']]\n",
    "py_scores = py_RTI_SOFA[['patient_id', 'encounter_id','duration','SOFA_GCS_Score','SOFA_MAP_Score','SOFA_BILI_Score','SOFA_PLT_Score','SOFA_RENAL_Score','SOFA_RESP_Score','SOFA_Score']]"
   ]
  },
  {
   "cell_type": "code",
   "execution_count": null,
   "metadata": {},
   "outputs": [],
   "source": [
    "py_fcns = {\n",
    "    'duration':lambda x: list(x),\n",
    "    'SOFA_GCS_Score':lambda x: list(x),\n",
    "    'SOFA_MAP_Score':lambda x: list(x),\n",
    "    'SOFA_BILI_Score':lambda x: list(x),\n",
    "    'SOFA_PLT_Score':lambda x: list(x),\n",
    "    'SOFA_RENAL_Score':lambda x: list(x),\n",
    "    'SOFA_RESP_Score':lambda x: list(x),\n",
    "    'SOFA_Score':lambda x: list(x)\n",
    "}\n",
    "\n",
    "mimic_fcns = {\n",
    "    'duration':lambda x: list(x),\n",
    "    'liver_24hours':lambda x: list(x),\n",
    "    'cardiovascular_24hours':lambda x: list(x),\n",
    "    'cns_24hours':lambda x: list(x),\n",
    "    'coagulation_24hours':lambda x: list(x),\n",
    "    'renal_24hours':lambda x: list(x),\n",
    "    'respiration_24hours':lambda x: list(x),\n",
    "    'sofa_24hours':lambda x: list(x)\n",
    "    \n",
    "}\n",
    "\n",
    "SOFA_map = {\n",
    "    'Cardiac': ['cardiovascular_24hours','SOFA_MAP_Score'],\n",
    "    'Platelet': ['coagulation_24hours','SOFA_PLT_Score'],\n",
    "    'Liver': ['liver_24hours','SOFA_BILI_Score'],\n",
    "    'CNS': ['cns_24hours','SOFA_GCS_Score'],\n",
    "    'Resp': ['respiration_24hours','SOFA_RESP_Score'],\n",
    "    'Renal': ['renal_24hours','SOFA_RENAL_Score'],\n",
    "    'Total': ['sofa_24hours','SOFA_Score']\n",
    "    }"
   ]
  },
  {
   "cell_type": "code",
   "execution_count": null,
   "metadata": {},
   "outputs": [],
   "source": [
    "py_scores = py_scores.groupby(['patient_id', 'encounter_id']).agg(py_fcns).reset_index()\n",
    "mimic_scores = mimic_scores.groupby(['patient_id', 'encounter_id']).agg(mimic_fcns).reset_index()"
   ]
  },
  {
   "cell_type": "markdown",
   "metadata": {},
   "source": [
    "### Create DataFrames to Evaluate Sub-Scores"
   ]
  },
  {
   "cell_type": "code",
   "execution_count": null,
   "metadata": {},
   "outputs": [],
   "source": [
    "def final_from_lvdf(label,time_col='time_measured'):\n",
    "    final_cols = ['patient_id','encounter_id','admit_time', 'discharge_time']\n",
    "    df = pd.merge(final[final_cols],lvdf[lvdf['label']==label],on='patient_id',how='left')\n",
    "    df['duration']= (df[time_col]-df['admit_time']).apply(lambda z: z.total_seconds()/3600)\n",
    "    return df"
   ]
  },
  {
   "cell_type": "code",
   "execution_count": null,
   "metadata": {},
   "outputs": [],
   "source": [
    "final_platelets = final_from_lvdf('PLT')\n",
    "final_bili = final_from_lvdf('BILI') \n",
    "final_GCS = final_from_lvdf('GCS')\n",
    "final_Cr = final_from_lvdf('Cr') \n",
    "final_MAP = final_from_lvdf('MAP')"
   ]
  },
  {
   "cell_type": "code",
   "execution_count": null,
   "metadata": {},
   "outputs": [],
   "source": [
    "final_UOP = pd.merge(final[['patient_id','admit_time']],MIMIC_SOFA[['patient_id','encounter_id','SOFA_end','uo_24hr']],on='patient_id',how='left')\n",
    "final_UOP['duration'] = (final_UOP['SOFA_end'] - final_UOP['admit_time']).apply(lambda z: z.total_seconds()/3600)"
   ]
  },
  {
   "cell_type": "code",
   "execution_count": null,
   "metadata": {},
   "outputs": [],
   "source": [
    "final_MAP = final_from_lvdf('MAP')"
   ]
  },
  {
   "cell_type": "code",
   "execution_count": null,
   "metadata": {},
   "outputs": [],
   "source": [
    "final_vasodf = data['vasodf'].copy().rename(columns=names_to_standard)\n",
    "final_vasodf['vaso_start'] = pd.to_datetime(final_vasodf['vaso_start'],utc=True)\n",
    "final_vasodf['vaso_end'] = pd.to_datetime(final_vasodf['vaso_end'],utc=True)\n",
    "\n",
    "final_vasodf = I2_Sepsis.convert_pressors(vasodf =final_vasodf)\n",
    "final_vasodf =  pd.merge(final[['patient_id','admit_time']],final_vasodf[['patient_id','vaso_start','vaso_end','ianotrope','ne_eq','pressor_name']],on='patient_id',how='left')\n",
    "final_vasodf['start_dur'] = (pd.to_datetime(final_vasodf['vaso_start'],utc=True) - final_vasodf['admit_time'] ).apply(lambda z: z.total_seconds()/3600)\n",
    "final_vasodf['end_dur'] = (pd.to_datetime(final_vasodf['vaso_end'],utc=True) - final_vasodf['admit_time'] ).apply(lambda z: z.total_seconds()/3600)"
   ]
  },
  {
   "cell_type": "code",
   "execution_count": null,
   "metadata": {},
   "outputs": [],
   "source": [
    "final_RESP = I2_Sepsis.Calc_PF(lvdf=lvdf, include_SF = False)\n",
    "final_RESP = final_RESP[final_RESP['label'].isin(['O2_Flow','PFRatio','FiO2','SpO2','pO2'])]\n",
    "final_RESP= pd.merge(final,final_RESP,on='patient_id',how='left')\n",
    "final_RESP['duration'] = (pd.to_datetime(final_RESP['time_measured'],utc=True) - final_RESP['admit_time'] ).apply(lambda z: z.total_seconds()/3600)\n",
    "\n",
    "\n",
    "\n",
    "final_PF = final_RESP[final_RESP['label'].isin(['PFRatio'])]\n"
   ]
  },
  {
   "cell_type": "code",
   "execution_count": null,
   "metadata": {},
   "outputs": [],
   "source": [
    "final_mvdf = pd.merge(final,mvdf,on='patient_id',how='left')\n",
    "final_mvdf['start_dur'] = (pd.to_datetime(final_mvdf['vent_start'],utc=True) - final_mvdf['admit_time'] ).apply(lambda z: z.total_seconds()/3600)\n",
    "final_mvdf['end_dur'] = (pd.to_datetime(final_mvdf['vent_end'],utc=True) - final_mvdf['admit_time'] ).apply(lambda z: z.total_seconds()/3600)\n",
    "final_mvdf = final_mvdf[['patient_id', 'encounter_id','vent_type', 'start_dur', 'end_dur']].groupby(['patient_id', 'encounter_id','vent_type']).agg({'start_dur':lambda z:list(z),'end_dur':lambda z:list(z)}).reset_index()"
   ]
  },
  {
   "cell_type": "markdown",
   "metadata": {},
   "source": [
    "### Create Functions to Evaluate Sepsis-3 Differences:"
   ]
  },
  {
   "cell_type": "code",
   "execution_count": null,
   "metadata": {},
   "outputs": [],
   "source": [
    "colors = {'ICU': '#e31a1c', 'non-ICU':'#1f78b4','mimic':'#6a3d9a','python':'#33a02c'}"
   ]
  },
  {
   "cell_type": "code",
   "execution_count": null,
   "metadata": {},
   "outputs": [],
   "source": [
    "def offset_plot(df,pycol_time,pycol_label,mimiccol_time,mimiccol_label,ax=None):\n",
    "    \n",
    "    if ax is None:\n",
    "        ax = plt.gca()\n",
    "    ax.set(ylim=(0,1))   \n",
    "    py_times = []\n",
    "    offsets = []\n",
    "    offset_start = 0.6\n",
    "    for py_time in df[pycol_time]:\n",
    "        py_times.append((pd.to_datetime(py_time,utc=True) - pd.to_datetime(df['admit_time'],utc=True)).total_seconds()/3600)\n",
    "        offsets.append(offset_start)\n",
    "        if offset_start < 0.8:\n",
    "            offset_start = offset_start + 0.1\n",
    "        else:\n",
    "            offset_start = 0.6\n",
    "        \n",
    "    \n",
    "    ax.scatter(py_times,offsets,color=colors['python'],label='Python')\n",
    "    for i, txt in enumerate(df[pycol_label]):\n",
    "        ax.annotate(txt, (py_times[i], offsets[i]))\n",
    "    \n",
    "    \n",
    "    mimic_times = []\n",
    "    offsets = []\n",
    "    offset_start = 0.4\n",
    "    for mimic_time in df[mimiccol_time]:\n",
    "        mimic_times.append((pd.to_datetime(mimic_time,utc=True) - pd.to_datetime(df['admit_time'],utc=True)).total_seconds()/3600)\n",
    "        offsets.append(offset_start)\n",
    "        if offset_start > 0.2:\n",
    "            offset_start = offset_start - 0.1\n",
    "        else:\n",
    "            offset_start = 0.4\n",
    "        \n",
    "    \n",
    "    ax.set(ylim=(0,1))\n",
    "    \n",
    "    ax.scatter(mimic_times,offsets,color=colors['mimic'],label='MIMIC')\n",
    "    for i, txt in enumerate(df[mimiccol_label]):\n",
    "        ax.annotate(txt, (mimic_times[i], offsets[i]))\n",
    "    return ax,py_times,mimic_times"
   ]
  },
  {
   "cell_type": "code",
   "execution_count": null,
   "metadata": {},
   "outputs": [],
   "source": [
    "def line_plt(df1, df2,time_col,score_col,color,Title,ax=None):\n",
    "    if ax is None:\n",
    "        ax = plt.gca()\n",
    "        \n",
    "    find_pt = df1[(df1['patient_id']==df2['patient_id']) & (df1['encounter_id']==df2['encounter_id'])].reset_index().copy()\n",
    "\n",
    "    \n",
    "    times = (pd.to_datetime(find_pt[time_col],utc=True) - pd.to_datetime(df2['admit_time'],utc=True)).apply(lambda z: z.total_seconds()/3600).to_list()\n",
    "    scores = find_pt[score_col].to_list()\n",
    "    \n",
    "    plot_data = pd.DataFrame([times,scores]).T\n",
    "    plot_data.set_axis([time_col,score_col],axis=1,inplace=True)\n",
    "    #display(plot_data)\n",
    "\n",
    "\n",
    "    ax.set_title(Title)\n",
    "    ax.scatter(plot_data[time_col],plot_data[score_col],color=color,marker='o',alpha=0.5)\n",
    "    return ax"
   ]
  },
  {
   "cell_type": "code",
   "execution_count": null,
   "metadata": {},
   "outputs": [],
   "source": [
    "def outcome_plt(df1,df2,time_col):\n",
    "    find_pt = df1[(df1['patient_id']==df2['patient_id']) & (df1['encounter_id']==df2['encounter_id'])].reset_index(drop=True)[['patient_id','encounter_id',time_col]]\n",
    "    find_pt = find_pt.groupby(['patient_id','encounter_id'])[time_col].apply(list).reset_index()  \n",
    "    if len(find_pt [time_col]) > 0:\n",
    "        times = []\n",
    "        #display(find_pt[time_col].tolist()[0])\n",
    "        for time in find_pt[time_col].tolist()[0]:\n",
    "            times.append((pd.to_datetime(time,utc=True)-df2['admit_time']).total_seconds()/3600)\n",
    "        return times\n",
    "    else:\n",
    "        return []"
   ]
  },
  {
   "cell_type": "code",
   "execution_count": null,
   "metadata": {},
   "outputs": [],
   "source": [
    "def Cumulative(lists):\n",
    "    cu_list = []\n",
    "    length = len(lists)\n",
    "    cu_list = [sum(lists[0:x:1]) for x in range(0, length+1)]\n",
    "    return cu_list[1:]"
   ]
  },
  {
   "cell_type": "code",
   "execution_count": null,
   "metadata": {},
   "outputs": [],
   "source": [
    "def sepsis_review(pat_id,encounter_id,df_lists=final,lookback=24,lookforward=24):\n",
    "    review = {}\n",
    "    \n",
    "    review['patient_id'] = pat_id\n",
    "    review['encounter_id'] = encounter_id\n",
    "    \n",
    "    \n",
    "    enc_info=df_lists[(df_lists['patient_id']==pat_id) & (df_lists['encounter_id']==encounter_id)].reset_index(drop=True)\n",
    "    assert len(enc_info)==1\n",
    "    enc_info=enc_info.loc[0]\n",
    "    \n",
    "    start = lookback\n",
    "    total_dur =  sum(enc_info['duration'])\n",
    "    total_plot = total_dur + lookback + lookforward\n",
    "    \n",
    "    fig, (ax1,ax2,ax3,ax4) =plt.subplots(4,sharex=True, figsize=(30,13))\n",
    "    fig.tight_layout(pad=1.5)\n",
    "    \n",
    "    for ax in [ax1,ax2,ax3,ax4]:\n",
    "        ax.set_xticks(range(-lookback,int(total_dur)+lookforward,12),minor=False)\n",
    "        ax.set_xticks(range(-lookback,int(total_dur)+lookforward,6),minor=True)\n",
    "        ax.tick_params(axis='x',which='both', length=6, width=2)\n",
    "    \n",
    "    \n",
    "    \n",
    "    ax1.set_title('Admission Time Line')\n",
    "    ax1.set(xlim=(-lookback,total_dur+24), ylim=(0,1))\n",
    "    \n",
    "    \n",
    "    ax1.tick_params(axis='y', which='both',left=False, right=False,labelleft=False)\n",
    "    \n",
    "    x_mins = Cumulative([0]+ enc_info['duration'][:-1])\n",
    "    x_maxs = Cumulative(enc_info['duration'])\n",
    "    \n",
    "    review['loc start'] = x_mins\n",
    "    review['loc ends'] = x_maxs\n",
    "    review['locs'] = enc_info['loc_cat']\n",
    "    \n",
    "    ys = [0.5] *len(enc_info['duration'])\n",
    "    \n",
    "    loc_colors = []\n",
    "    for loc in enc_info['loc_cat']:\n",
    "        if loc == 'ICU':\n",
    "            loc_colors.append(colors['ICU'])\n",
    "        else:\n",
    "            loc_colors.append(colors['non-ICU'])\n",
    "            \n",
    "\n",
    "        \n",
    "    ax1.hlines(y=ys,xmin=x_mins,xmax=x_maxs,colors=loc_colors,linewidth=50)\n",
    "    for loc_min, loc_max,loc in zip(x_mins,x_maxs,enc_info['loc_cat']):\n",
    "        ax1.text((loc_max+loc_min-2)/2,0.5,loc,fontweight=900)    \n",
    "        \n",
    "    ax2.set_title('Cultures')\n",
    "    ax2, review['py_culture_times'],review['mimic culture times'] = offset_plot(enc_info,'python_culture_time','python_specimen','MIMIC_culture_time','MIMIC_specimen',ax2)\n",
    "    ax2.tick_params(axis='y', which='both',left=False, right=False,labelleft=False)\n",
    "    ax2.legend()\n",
    "    \n",
    "    ax3.set_title('Antibiotics')\n",
    "    ax3, review['py abx times'],review['mimic abx times'] = offset_plot(enc_info,'python_antibotic_time','python_antibotic','MIMIC_antibiotic_time','MIMIC_antibiotic_name',ax3)\n",
    "    ax3.tick_params(axis='y', which='both',left=False, right=False,labelleft=False)\n",
    "    \n",
    "    ax3.set_title('SOFA Scores')\n",
    "    ax4.grid(axis='y')\n",
    "    ax4.set(ylim=(0,24))\n",
    "    ax4.set_yticks(np.arange(0,25,3))\n",
    "    \n",
    "    line_plt(MIMIC_SOFA,enc_info,'SOFA_end','sofa_24hours',colors['mimic'],'MIMIC SOFA Score',ax=ax4)\n",
    "    line_plt(python_SOFA,enc_info,'score_time','SOFA_Score',colors['python'],'Python SOFA Score',ax=ax4)\n",
    "    \n",
    "    \n",
    "    \n",
    "    \n",
    "    #ax5.grid(axis='y')\n",
    "    #ax5.set(ylim=(0,3))\n",
    "    #ax5.set_yticks(np.arange(0,3,1))\n",
    "    #ax5.set_xlabel('Hours From Admission')\n",
    "    #line_plt(python_qSOFA,enc_info,'score_time','qSOFA_Score',colors['python'],'python qSOFA Score',ax=ax5)\n",
    "    \n",
    "            \n",
    "    if len(outcome_plt(SOI_full,enc_info,'SOITime')) >0:\n",
    "        times = outcome_plt(SOI_full,enc_info,'SOITime')\n",
    "        for ax in [ax1,ax2,ax3,ax4]:\n",
    "            ax.vlines(times,ymin=0,ymax=100,linestyles='--',color=colors['python'],label='Python SOI',alpha=0.8,linewidth=2)\n",
    "            review['python SOI Time']= times\n",
    "    \n",
    "    if len(outcome_plt(Sep_3,enc_info,'Sepsis_Time'))>0:\n",
    "        times = outcome_plt(Sep_3,enc_info,'Sepsis_Time')\n",
    "        for ax in [ax1,ax2,ax3,ax4]:\n",
    "            ax.vlines(times,ymin=0,ymax=100,linestyles='-',color=colors['python'],label='Python Sepsis',alpha=0.8,linewidth=2)\n",
    "            review['python Sepsis Time']= times\n",
    "            \n",
    "    if len(outcome_plt(MIMIC_SOI,enc_info,'MIMIC_suspected_infection_time')) >0:\n",
    "        times = outcome_plt(MIMIC_SOI,enc_info,'MIMIC_suspected_infection_time')\n",
    "        #times = [i-0.5 for i in times]\n",
    "        for ax in [ax1,ax2,ax3,ax4]:\n",
    "            ax.vlines(times,ymin=0,ymax=100,linestyles='--',color=colors['mimic'],label='MIMIC SOI',alpha=0.8,linewidth=2)\n",
    "            review['MIMIC SOI Time']= times\n",
    "            \n",
    "    if len(outcome_plt(MSep_3,enc_info,'MSep_Time')) >0:\n",
    "        times = outcome_plt(MSep_3,enc_info,'MSep_Time')\n",
    "        #times = [i-0.5 for i in times]\n",
    "        for ax in [ax1,ax2,ax3,ax4]:\n",
    "            ax.vlines(times,ymin=0,ymax=100,linestyles='-',color=colors['mimic'],label='MIMIC Sepsis',alpha=0.8,linewidth=2) \n",
    "            review['MIMIC Sepsis Time']= times\n",
    "            \n",
    "\n",
    "    \n",
    "    ax2.legend()   \n",
    "    plt.show()\n",
    "    display(pd.DataFrame({k: [v] for k, v in review.items()}))\n",
    "    return pd.DataFrame({k: [v] for k, v in review.items()})"
   ]
  },
  {
   "cell_type": "markdown",
   "metadata": {},
   "source": [
    "### Create Functions to Evaluate Score Differences:"
   ]
  },
  {
   "cell_type": "code",
   "execution_count": null,
   "metadata": {},
   "outputs": [],
   "source": [
    "def SOFA_Compare(patient_id,encounter_id):\n",
    "    py_test = py_scores[(py_scores['patient_id']==patient_id) & (py_scores['encounter_id']==encounter_id)].reset_index(drop=True)\n",
    "    mimic_test = mimic_scores[(mimic_scores['patient_id']==patient_id) & (mimic_scores['encounter_id']==encounter_id)].reset_index(drop=True)\n",
    "\n",
    "    py_max = py_test[['duration','SOFA_Score']].explode(['duration','SOFA_Score']).dropna()['duration'].max()\n",
    "    mimc_max = mimic_test[['duration','sofa_24hours']].explode(['duration','sofa_24hours']).dropna()['duration'].max()\n",
    "    \n",
    "    fig, (ax1,ax2,ax3,ax4,ax5,ax6, ax7) =plt.subplots(7,sharex=True, figsize=(30,13))\n",
    "    fig.tight_layout(pad=1.5)\n",
    "    \n",
    "    \n",
    "    for ax, score in zip([ax1,ax2,ax3,ax4,ax5,ax6, ax7],SOFA_map):\n",
    "    \n",
    "        \n",
    "        mimic_col = SOFA_map[score][0]\n",
    "        py_col = SOFA_map[score][1]\n",
    "        \n",
    "    \n",
    "        mimic_df_plt = mimic_test[['duration',mimic_col]].explode(['duration',mimic_col]).dropna()\n",
    "        py_df_plt = py_test[['duration',py_col]].explode(['duration',py_col]).dropna()\n",
    "        ax.set_title(score)\n",
    "        if score == 'Total':\n",
    "            ax.set(xlim=(0,max(mimc_max,py_max)+1),ylim=(-0.2,24.2))\n",
    "            ax.set_yticks(np.arange(0,25,3))\n",
    "            \n",
    "        \n",
    "        else:\n",
    "            ax.set(xlim=(0,max(mimc_max,py_max)+1),ylim=(-0.2,4.2))\n",
    "        ax.scatter(py_df_plt['duration'],py_df_plt[py_col],color=colors['python'],alpha=0.5)\n",
    "        ax.scatter(mimic_df_plt['duration'],mimic_df_plt[mimic_col],color=colors['mimic'],alpha=0.5)\n",
    "    plt.show()\n",
    "    \n",
    "        "
   ]
  },
  {
   "cell_type": "code",
   "execution_count": null,
   "metadata": {},
   "outputs": [],
   "source": [
    "def subscore_fig1(patient_id,encounter_id,mimic_test=None,py_test=None,ax=None,lookback=48,xmax=100,py_col=None,mimic_col=None):\n",
    "    \n",
    "    mimic_df= mimic_test[['duration',mimic_col]].explode(['duration',mimic_col]).dropna()\n",
    "    py_df = py_test[['duration',py_col]].explode(['duration',py_col]).dropna()\n",
    "    ax.set(xlim=(-lookback ,xmax+1),ylim=(-0.2,4.2))\n",
    "    ax.scatter(py_df['duration'],py_df[py_col],color=colors['python'],label='python')\n",
    "    ax.scatter(mimic_df['duration'],mimic_df[mimic_col],color=colors['mimic'],label='MIMC')\n",
    "    ax.legend()\n",
    "    return ax\n"
   ]
  },
  {
   "cell_type": "code",
   "execution_count": null,
   "metadata": {},
   "outputs": [],
   "source": [
    "def subscore_fig2(valdf,cut_offs,ax=None,val_col='value',lookback=48,xmax=100):\n",
    "    ax.scatter(valdf['duration'],valdf['value'])\n",
    "    ax.hlines(y=cut_offs,xmin=-lookback,xmax=xmax+1,linestyle='--',color='black')\n",
    "    return ax"
   ]
  },
  {
   "cell_type": "code",
   "execution_count": null,
   "metadata": {},
   "outputs": [],
   "source": [
    "def trace_subscore(patient_id,encounter_id,subscore,lookback=48):\n",
    "    assert subscore in['Cardiac', 'Platelet', 'Liver', 'CNS', 'Resp', 'Renal']\n",
    "    \n",
    "    subplot_map = {\n",
    "    'Platelet': 2,\n",
    "    'Liver': 2,\n",
    "    'CNS': 2,\n",
    "    'Renal': 3,\n",
    "    'Cardiac': 4, \n",
    "    'Resp': 4\n",
    "    }\n",
    "    \n",
    "    \n",
    "    py_test = py_scores[(py_scores['patient_id']==patient_id) & (py_scores['encounter_id']==encounter_id)].reset_index(drop=True)\n",
    "    mimic_test = mimic_scores[(mimic_scores['patient_id']==patient_id) & (mimic_scores['encounter_id']==encounter_id)].reset_index(drop=True)\n",
    "    \n",
    "    py_max = py_test[['duration','SOFA_Score']].explode(['duration','SOFA_Score']).dropna()['duration'].max()\n",
    "    mimc_max = mimic_test[['duration','sofa_24hours']].explode(['duration','sofa_24hours']).dropna()['duration'].max()\n",
    "    graph_max = max(mimc_max,py_max)+1\n",
    "    \n",
    "    mimic_col = SOFA_map[subscore][0]\n",
    "    py_col = SOFA_map[subscore][1]\n",
    "    \n",
    "    \n",
    "    fig, axs =plt.subplots(subplot_map[subscore],sharex=True, figsize=(30,13))\n",
    "    fig.tight_layout(pad=1.5)\n",
    "    axs[0].set_title(subscore + ' SOFA')\n",
    "    \n",
    "    subscore_fig1(patient_id,encounter_id,mimic_test=mimic_test,py_test=py_test,ax=axs[0],lookback=lookback,xmax=graph_max,py_col=py_col,mimic_col=mimic_col)\n",
    "    \n",
    "    \n",
    "    \n",
    "    if subscore == 'Platelet':\n",
    "        \n",
    "        platelets = final_platelets[final_platelets['encounter_id']==encounter_id]\n",
    "        axs[1].set_title('Platelets')\n",
    "        subscore_fig2(platelets,cut_offs=[150,100,50,20],ax=axs[1],val_col='value',lookback=lookback,xmax=graph_max)\n",
    "        axs[1].text(-lookback+2,175,'0',fontweight=900)\n",
    "        axs[1].text(-lookback+2,125,'1',fontweight=900)\n",
    "        axs[1].text(-lookback+2,75,'2',fontweight=900)\n",
    "        axs[1].text(-lookback+2,35,'3',fontweight=900)\n",
    "        axs[1].text(-lookback+2,10,'4',fontweight=900)\n",
    "        \n",
    "    \n",
    "    elif subscore == 'Liver':\n",
    "        \n",
    "        bili = final_bili[final_bili['encounter_id']==encounter_id]\n",
    "        axs[1].set_title('Bilirubin')\n",
    "        subscore_fig2(bili,cut_offs=[12,6,2,1.2],ax=axs[1],val_col='value',lookback=lookback,xmax=graph_max)\n",
    "        axs[1].text(-lookback+2,0.6,'0',fontweight=900)\n",
    "        axs[1].text(-lookback+2,1.6,'1',fontweight=900)\n",
    "        axs[1].text(-lookback+2,4,'2',fontweight=900)\n",
    "        axs[1].text(-lookback+2,9,'3',fontweight=900)\n",
    "        axs[1].text(-lookback+2,13,'4',fontweight=900)\n",
    "        axs[1].set(ylim=(0,14))\n",
    "    \n",
    "    elif subscore == 'CNS':\n",
    "        \n",
    "        \n",
    "        GCS = final_GCS[final_GCS['encounter_id']==encounter_id]\n",
    "        subscore_fig2(GCS,cut_offs=[14,12,10,6],ax=axs[1],val_col='value',lookback=lookback,xmax=graph_max)\n",
    "        axs[1].set_title('GCS')\n",
    "        axs[1].text(-lookback+2,15,'0',fontweight=900)\n",
    "        axs[1].text(-lookback+2,13,'1',fontweight=900)\n",
    "        axs[1].text(-lookback+2,11,'2',fontweight=900)\n",
    "        axs[1].text(-lookback+2,8,'3',fontweight=900)\n",
    "        axs[1].text(-lookback+2,3,'4',fontweight=900)\n",
    "        axs[1].set(ylim=(0,16))\n",
    "        \n",
    "    \n",
    "    elif subscore == 'Renal':\n",
    "        \n",
    "        Cr = final_Cr[final_Cr['encounter_id']==encounter_id]\n",
    "        axs[1].set_title('Creatinine')\n",
    "        subscore_fig2(Cr,cut_offs=[5,3.4,1.9,1.2],ax=axs[1],val_col='value',lookback=lookback,xmax=graph_max)\n",
    "        axs[1].text(-lookback+2,0.6,'0',fontweight=900)\n",
    "        axs[1].text(-lookback+2,1.4,'1',fontweight=900)\n",
    "        axs[1].text(-lookback+2,2.6,'2',fontweight=900)\n",
    "        axs[1].text(-lookback+2,4.2,'3',fontweight=900)\n",
    "        axs[1].text(-lookback+2,6,'4',fontweight=900)\n",
    "        if Cr['value'].max() < 8:\n",
    "            axs[1].set(ylim=(0,8))\n",
    "        else:\n",
    "            axs[1].set(ylim=(0,Cr['value'].max()+1))\n",
    "        \n",
    "        UOP = final_UOP[final_UOP['encounter_id']==encounter_id]\n",
    "        \n",
    "        \n",
    "        axs[2].set_title('Urine Output')\n",
    "        axs[2].scatter(UOP['duration'],UOP['uo_24hr'])\n",
    "        axs[2].hlines(y=[500,200],xmin=-lookback,xmax=max(mimc_max,py_max)+1,linestyle='--')\n",
    "        \n",
    "    elif subscore == 'Cardiac':\n",
    "        \n",
    "        MAP = final_MAP[final_MAP['encounter_id']==encounter_id]\n",
    "        axs[1].set_title('Mean Arterial Pressure')\n",
    "        subscore_fig2(MAP,cut_offs=[70],ax=axs[1],val_col='value',lookback=lookback,xmax=graph_max)\n",
    "        axs[1].text(-lookback+2,80,'0',fontweight=900)\n",
    "        axs[1].text(-lookback+2,60,'1',fontweight=900)\n",
    "        \n",
    "        \n",
    "        color_key = {\n",
    "        'dobu': '#66c2a5', \n",
    "\n",
    "        'dopa': '#fc8d62', \n",
    "\n",
    "        'milrinone': '#8da0cb', \n",
    "\n",
    "        'ang': '#e78ac3',\n",
    "\n",
    "        'epi': '#a6d854',\n",
    "\n",
    "        'norepi': '#ffd92f', \n",
    "\n",
    "        'phenyl': '#e5c494', \n",
    "\n",
    "        'vasopressin': '#b3b3b3'}\n",
    "        axs[2].set_title('Pressors in NE eqs')\n",
    "        axs[2].set_ylabel('NE eqs')\n",
    "        \n",
    "        vaso = final_vasodf[(final_vasodf['encounter_id']==encounter_id) & (final_vasodf['ianotrope']==0)]\n",
    "        if len(vaso)>0:\n",
    "            for drug in vaso['pressor_name'].unique():\n",
    "                df=vaso[vaso['pressor_name']==drug].reset_index(drop=True)\n",
    "                axs[2].hlines(xmin=df['start_dur'],xmax=df['end_dur'],y=df['ne_eq'],linewidth=3,color=color_key[drug],label=drug)\n",
    "            axs[2].legend()\n",
    "        else:\n",
    "            axs[2].text((graph_max-lookback-5)/2,0.5,'No Pressors Found',fontweight=900)\n",
    "        \n",
    "        axs[3].set_title('Ianotropes')\n",
    "        iano = final_vasodf[(final_vasodf['encounter_id']==encounter_id) & (final_vasodf['ianotrope']==1)]\n",
    "        if len(iano)>0:\n",
    "            for drug in iano['pressor_name'].unique():\n",
    "                df=vaso[iano['pressor_name']==drug].reset_index(drop=True)\n",
    "                axs[3].hlines(xmin=df['start_dur'],xmax=df['end_dur'],y=0.5,linewidth=3,color=color_key[drug],label=drug)\n",
    "            axs[3].legend()\n",
    "        else:\n",
    "            axs[3].text((graph_max-lookback-5)/2,0.5,'No Ianotropes Found',fontweight=900)\n",
    "    \n",
    "        \n",
    "    \n",
    "     \n",
    "    elif subscore =='Resp':\n",
    "        \n",
    "        PF = final_PF[final_PF['encounter_id']==encounter_id]\n",
    "        axs[1].set_title('PF Ratio')\n",
    "        subscore_fig2(PF,cut_offs=[400,300,200,100],ax=axs[1],val_col='value',lookback=lookback,xmax=graph_max)\n",
    "        axs[1].text(-lookback+2,450,'0',fontweight=900)\n",
    "        axs[1].text(-lookback+2,350,'1',fontweight=900)\n",
    "        axs[1].text(-lookback+2,250,'2',fontweight=900)\n",
    "        axs[1].text(-lookback+2,150,'3',fontweight=900)\n",
    "        axs[1].text(-lookback+2,50,'4',fontweight=900)\n",
    "        axs[1].set(ylim=(0,500))\n",
    "        \n",
    "        calc = final_RESP[final_RESP['encounter_id']==encounter_id]\n",
    "        FiO2 = calc[calc['label']=='FiO2']\n",
    "        pO2  = calc[calc['label']=='pO2']\n",
    "        \n",
    "        axs[2].set_title('PO2/FiO2')\n",
    "        axs[2].scatter(FiO2['duration'],FiO2['value'],color='blue',label='FiO2')\n",
    "        axs[2].scatter(pO2['duration'],pO2['value'],color='red',label='pO2')\n",
    "        axs[2].set(ylim=(0,105))\n",
    "        axs[2].legend()\n",
    "        \n",
    "        \n",
    "        \n",
    "        axs[3].set_title('Vent Status')\n",
    "        mv = final_mvdf[final_mvdf['encounter_id']==encounter_id].reset_index(drop=True)\n",
    "        \n",
    "        assert len(mv) < 2\n",
    "        \n",
    "        if len(mv) == 0:\n",
    "             axs[3].text((graph_max-lookback-5)/2,0.5,'Not on Vent',fontweight=900)\n",
    "        else:\n",
    "            mv = mv.loc[0,:]\n",
    "            \n",
    "        if len(mv['start_dur'])==0:\n",
    "            axs[3].text((graph_max-lookback-5)/2,0.5,'Not on Vent',fontweight=900)\n",
    "        elif len(mv['start_dur'])==1:\n",
    "            axs[3].hlines(y=0.5,xmin=mv['start_dur'][0],xmax=mv['end_dur'][0])\n",
    "        else:\n",
    "            axs[3].hlines(y=[0.5]*len(mv['start_dur']),xmin=mv['start_dur'],xmax=mv['end_dur'])\n",
    "    \n",
    "\n",
    "    axs[subplot_map[subscore]-1].set_xlabel('Hours From Admission')\n",
    "    axs[subplot_map[subscore]-1].set_xticks(np.arange(-lookback,graph_max,12))\n",
    "    \n",
    "    plt.show()\n",
    "        "
   ]
  },
  {
   "cell_type": "code",
   "execution_count": null,
   "metadata": {},
   "outputs": [],
   "source": [
    "def review(num):\n",
    "    patient_id = sample['patient_id'][num]\n",
    "    encounter_id = sample['encounter_id'][num]\n",
    "    print('patient_id: {}'.format(patient_id))\n",
    "    print('encounter_id: {}'.format(encounter_id))\n",
    "    summary = sepsis_review(patient_id,encounter_id,df_lists=final,lookback=24,lookforward=24)\n",
    "    print('\\n')\n",
    "        \n",
    "    SOFA_Compare(patient_id,encounter_id)\n",
    "    time.sleep(0.5)\n",
    "    subscore = input('Review Subscore?')\n",
    "    while subscore != 'No':\n",
    "        trace_subscore(patient_id,encounter_id,subscore = subscore,lookback=48)\n",
    "        subscore = input('Review Another Subscore?')\n",
    "    return summary"
   ]
  },
  {
   "cell_type": "markdown",
   "metadata": {},
   "source": [
    "### Troubleshooting"
   ]
  },
  {
   "cell_type": "code",
   "execution_count": null,
   "metadata": {},
   "outputs": [],
   "source": [
    "explanations = {}"
   ]
  },
  {
   "cell_type": "markdown",
   "metadata": {},
   "source": [
    "### Review Samples SOI by SQL but not Python"
   ]
  },
  {
   "cell_type": "code",
   "execution_count": null,
   "metadata": {},
   "outputs": [],
   "source": [
    "sample = dfs_for_review['SOI by SQL Only'].reset_index(drop=True)\n",
    "len(sample)"
   ]
  },
  {
   "cell_type": "code",
   "execution_count": null,
   "metadata": {},
   "outputs": [],
   "source": [
    "#review(0)"
   ]
  },
  {
   "cell_type": "code",
   "execution_count": null,
   "metadata": {},
   "outputs": [],
   "source": [
    "adt_enc = adt.groupby(['patient_id','encounter_id']).agg({'location_start':'min','location_end':'max'}).reset_index()"
   ]
  },
  {
   "cell_type": "code",
   "execution_count": null,
   "metadata": {},
   "outputs": [],
   "source": [
    "# SOI Greater than 24 hours prior to admission -- Cannot result in Sepsis\n",
    "if len(sample) > 0:     \n",
    "    SOI_review = MIMIC_SOI[MIMIC_SOI['encounter_id'].isin(sample['encounter_id'])].reset_index()\n",
    "    \n",
    "    test = pd.merge(SOI_review,adt_enc,on=['patient_id','encounter_id'],how='inner')\n",
    "    test['time_from_admit'] = (test['MIMIC_suspected_infection_time'] - test['location_start']).apply(lambda z: z.total_seconds()/3600)\n",
    "    test['time_from_discharge'] = (test['location_end'] - test['MIMIC_suspected_infection_time']).apply(lambda z: z.total_seconds()/3600)\n",
    "    \n",
    "    crit_1 = test['time_from_admit'] < -24\n",
    "    crit_2 = test['time_from_discharge']<0 \n",
    "    explained =   test[crit_1 | crit_2][['patient_id','encounter_id']]\n",
    "    \n",
    "    explanations['SOI by SQL not Python'] = ['SOI Greater than 24 hours prior to admission',len(explained)]\n",
    "    print(len(explained))\n",
    "    sample = sample[~sample['encounter_id'].isin(explained['encounter_id'])].reset_index(drop=True)"
   ]
  },
  {
   "cell_type": "code",
   "execution_count": null,
   "metadata": {},
   "outputs": [],
   "source": [
    "assert len(sample) == 0"
   ]
  },
  {
   "cell_type": "markdown",
   "metadata": {},
   "source": [
    "### SOI by python but not SQL"
   ]
  },
  {
   "cell_type": "code",
   "execution_count": null,
   "metadata": {},
   "outputs": [],
   "source": [
    "sample = dfs_for_review['SOI by Python Only'].reset_index(drop=True)\n",
    "total_issue = len(sample)\n",
    "print(len(sample))"
   ]
  },
  {
   "cell_type": "code",
   "execution_count": null,
   "metadata": {},
   "outputs": [],
   "source": [
    "#review(0)"
   ]
  },
  {
   "cell_type": "code",
   "execution_count": null,
   "metadata": {},
   "outputs": [],
   "source": [
    "raw_abxdf = pd.read_sql('SELECT * FROM mimic_derived.antibiotic',cnx)"
   ]
  },
  {
   "cell_type": "code",
   "execution_count": null,
   "metadata": {},
   "outputs": [],
   "source": [
    "raw_SOI = pd.read_sql('SELECT * FROM mimic_derived.suspicion_of_infection',cnx)"
   ]
  },
  {
   "cell_type": "code",
   "execution_count": null,
   "metadata": {},
   "outputs": [],
   "source": [
    "#Mimic does not allow for the culture and antibiotic to be at the exact same time\n",
    "test = SOI_full[SOI_full['encounter_id'].isin(sample['encounter_id'])].reset_index()\n",
    "test['cx_to_abx'] = (test['abx_start'] - test['culture_time']).apply(lambda z: z.total_seconds()/3600)\n",
    "explained = test[test['cx_to_abx']==0][['patient_id','encounter_id']]\n",
    "\n",
    "explanations['SOI by Python but Not SQL issue 1'] = ['Mimic does not allow for the culture and antibiotic to be at the same time', len(explained)]\n",
    "\n",
    "len(explained)"
   ]
  },
  {
   "cell_type": "markdown",
   "metadata": {},
   "source": [
    "#### MIMIC CODE At Issue\n",
    " \n",
    " LEFT JOIN me me72 <br>\n",
    "    on ab_tbl.subject_id = me72.subject_id<br>\n",
    "    and<br>\n",
    "    (<br>\n",
    "      (<br>\n",
    "      -- if charttime is available, use it<br>\n",
    "          me72.charttime is not null<br>\n",
    "      and ab_tbl.antibiotic_time > me72.charttime<br>\n",
    "      and ab_tbl.antibiotic_time <= DATETIME_ADD(me72.charttime, INTERVAL '72' HOUR) <br>\n",
    "      )<br>\n",
    "      OR<br>\n",
    "      (<br>\n",
    "      -- if charttime is not available, use chartdate<br>\n",
    "          me72.charttime is null<br>\n",
    "      and antibiotic_date >= me72.chartdate<br>\n",
    "      and antibiotic_date <= DATE_ADD(me72.chartdate, INTERVAL '3' DAY)<br>\n",
    "      )<br>\n",
    "    )<br>\n",
    ")<br>\n",
    ", ab_then_me AS<br>\n",
    "(<br>\n",
    "  select<br>\n",
    "      ab_tbl.subject_id<br>\n",
    "    , ab_tbl.hadm_id<br>\n",
    "    , ab_tbl.stay_id<br>\n",
    "    , ab_tbl.ab_id<br>\n",
    "    <br>\n",
    "    , me24.micro_specimen_id<br>\n",
    "    , COALESCE(me24.charttime, DATETIME(me24.chartdate)) as next24_charttime<br>\n",
    "    , me24.positiveculture as next24_positiveculture<br>\n",
    "    , me24.spec_type_desc as next24_specimen<br>\n",
    "<br>\n",
    "    -- we will use this partition to select the earliest culture before this abx<br>\n",
    "    -- this ensures each antibiotic is only matched to a single culture<br>\n",
    "    -- and consequently we have 1 row per antibiotic<br>\n",
    "    , ROW_NUMBER() OVER<br>\n",
    "    (<br>\n",
    "      PARTITION BY ab_tbl.subject_id, ab_tbl.ab_id<br>\n",
    "      ORDER BY me24.chartdate, me24.charttime NULLS LAST<br>\n",
    "    ) AS micro_seq<br>\n",
    "  from ab_tbl<br>\n",
    "  -- culture in subsequent 24 hours<br>\n",
    "  LEFT JOIN me me24<br>\n",
    "    on ab_tbl.subject_id = me24.subject_id<br>\n",
    "    and<br>\n",
    "    (<br>\n",
    "      (<br>\n",
    "          -- if charttime is available, use it<br>\n",
    "          me24.charttime is not null<br>\n",
    "      and ab_tbl.antibiotic_time >= DATETIME_SUB(me24.charttime, INTERVAL '24' HOUR)  <br>\n",
    "      and ab_tbl.antibiotic_time < me24.charttime<br>\n",
    "      )<br>\n",
    "      OR<br>\n",
    "      (<br>\n",
    "          -- if charttime is not available, use chartdate<br>\n",
    "          me24.charttime is null<br>\n",
    "      and ab_tbl.antibiotic_date >= DATE_SUB(me24.chartdate, INTERVAL '1' DAY)<br>\n",
    "      and ab_tbl.antibiotic_date <= me24.chartdate<br>\n",
    "      )<br>\n",
    "    )<br>\n",
    ")<br>"
   ]
  },
  {
   "cell_type": "code",
   "execution_count": null,
   "metadata": {},
   "outputs": [],
   "source": [
    "sample = sample[~sample['encounter_id'].isin(explained['encounter_id'])].reset_index(drop=True)\n",
    "len(sample)"
   ]
  },
  {
   "cell_type": "code",
   "execution_count": null,
   "metadata": {},
   "outputs": [],
   "source": [
    "#review(0)"
   ]
  },
  {
   "cell_type": "code",
   "execution_count": null,
   "metadata": {},
   "outputs": [],
   "source": [
    "#MIMIC Does Identify SOI at the same time but for a different encounter \n",
    "crit_1 = SOI_py_found['patient_id'].isin(sample['patient_id'])\n",
    "crit_2 = SOI_py_found['encounter_id'].isin(sample['encounter_id'])\n",
    "\n",
    "python_found = SOI_py_found[crit_1 & crit_2]\n",
    "\n",
    "crit_1 = raw_SOI['subject_id'].isin(sample['patient_id'].astype(float))\n",
    "crit_2 = raw_SOI['hadm_id'].isin(sample['encounter_id'].astype(float))\n",
    "\n",
    "sql_found = raw_SOI[crit_1].reset_index(drop=True)\n",
    "\n",
    "sql_found = sql_found.rename(columns= names_to_standard).rename(columns = {'encounter_id':'encounter_id_sql'})\n",
    "\n",
    "sql_found['patient_id'] = sql_found['patient_id'].astype(str)\n",
    "sql_found['encounter_id_sql'] = sql_found['encounter_id_sql'].astype(str)\n",
    "sql_found['suspected_infection_time'] = pd.to_datetime(sql_found['suspected_infection_time'],utc=True)\n",
    "\n"
   ]
  },
  {
   "cell_type": "code",
   "execution_count": null,
   "metadata": {},
   "outputs": [],
   "source": [
    "test = pd.merge(python_found,sql_found,left_on=['patient_id','SOITime'],right_on=['patient_id','suspected_infection_time'],how='inner')\n",
    "explained = explained.append(test[test['encounter_id'] != test['encounter_id_sql']][['patient_id','encounter_id']].drop_duplicates())\n",
    "\n",
    "explanations['SOI by Python but Not SQL issue 2'] = ['SQL Does Identify SOI at the same time but for a different encounter',len(test[test['encounter_id'] != test['encounter_id_sql']][['patient_id','encounter_id']].drop_duplicates())]\n",
    "len(explained)"
   ]
  },
  {
   "cell_type": "code",
   "execution_count": null,
   "metadata": {},
   "outputs": [],
   "source": [
    "sample = sample[~sample['encounter_id'].isin(explained['encounter_id'])].reset_index()\n",
    "assert len(sample) == 0"
   ]
  },
  {
   "cell_type": "markdown",
   "metadata": {},
   "source": [
    "### MIMIC SOI Before Python SOI"
   ]
  },
  {
   "cell_type": "code",
   "execution_count": null,
   "metadata": {},
   "outputs": [],
   "source": [
    "sample = dfs_for_review['SQL SOI Before Python'].reset_index(drop=True)\n",
    "len(sample)"
   ]
  },
  {
   "cell_type": "code",
   "execution_count": null,
   "metadata": {},
   "outputs": [],
   "source": [
    "#review(0)"
   ]
  },
  {
   "cell_type": "code",
   "execution_count": null,
   "metadata": {},
   "outputs": [],
   "source": [
    "#MIMC Identifys SOI more than 24 hours priot to the encounter\n",
    "\n",
    "SOI_review = MIMIC_SOI[MIMIC_SOI['encounter_id'].isin(sample['encounter_id'])].reset_index()\n",
    "\n",
    "test = pd.merge(SOI_review,adt_enc,on=['patient_id','encounter_id'],how='inner')\n",
    "test['time_from_admit'] = (test['MIMIC_suspected_infection_time'] - test['location_start']).apply(lambda z: z.total_seconds()/3600)\n",
    "test['time_from_discharge'] = (test['location_end'] - test['MIMIC_suspected_infection_time']).apply(lambda z: z.total_seconds()/3600)\n",
    "\n",
    "crit_1 = test['time_from_admit'] < -24\n",
    "explained =   test[crit_1][['patient_id','encounter_id']]\n",
    "\n",
    "explanations['SQL SOI before Python'] = ['SQL Identifys SOI more than 24 hours priot to the encounter',len(explained)]\n",
    "\n",
    "len(explained)"
   ]
  },
  {
   "cell_type": "code",
   "execution_count": null,
   "metadata": {},
   "outputs": [],
   "source": [
    "sample = sample[~sample['encounter_id'].isin(explained['encounter_id'])].reset_index()"
   ]
  },
  {
   "cell_type": "code",
   "execution_count": null,
   "metadata": {},
   "outputs": [],
   "source": [
    "assert len(sample) == 0"
   ]
  },
  {
   "cell_type": "markdown",
   "metadata": {},
   "source": [
    "### Sepsis by SQL but not Python not due to SOI difference"
   ]
  },
  {
   "cell_type": "code",
   "execution_count": null,
   "metadata": {},
   "outputs": [],
   "source": [
    "sample = dfs_for_review['Septic by SQL Only'].reset_index(drop=True)\n",
    "\n",
    "sample = sample[~sample['encounter_id'].isin(dfs_for_review['SOI by SQL Only']['encounter_id'])]\n",
    "\n",
    "len(sample)"
   ]
  },
  {
   "cell_type": "code",
   "execution_count": null,
   "metadata": {},
   "outputs": [],
   "source": [
    "#review(0)"
   ]
  },
  {
   "cell_type": "code",
   "execution_count": null,
   "metadata": {},
   "outputs": [],
   "source": [
    "test"
   ]
  },
  {
   "cell_type": "code",
   "execution_count": null,
   "metadata": {},
   "outputs": [],
   "source": [
    "#MIMIC Find Sepsis due to slight difference in timing\n",
    "if len(sample) > 0:   \n",
    "    SOI_review = MIMIC_SOI[MIMIC_SOI['encounter_id'].isin(sample['encounter_id'])].reset_index().sort_values(by='MIMIC_suspected_infection_time')\n",
    "    \n",
    "    MIMIC_SOFA_review = MIMIC_SOFA[MIMIC_SOFA['encounter_id'].isin(sample['encounter_id'])].reset_index(drop=True)[['patient_id','encounter_id','SOFA_end','sofa_24hours']]\n",
    "    MIMIC_SOFA_review = MIMIC_SOFA_review[MIMIC_SOFA_review['sofa_24hours']>=2].sort_values(by='SOFA_end')\n",
    "    \n",
    "    python_SOFA_review = python_SOFA[python_SOFA['encounter_id'].isin(sample['encounter_id'])].dropna().reset_index(drop=True).sort_values(by='score_time')[['patient_id','encounter_id','score_time','SOFA_Score']]\n",
    "    python_SOFA_review = python_SOFA_review [python_SOFA_review ['SOFA_Score']>=2].sort_values(by='score_time')\n",
    "    \n",
    "    test = pd.merge_asof(SOI_review,MIMIC_SOFA_review,left_on='MIMIC_suspected_infection_time',right_on='SOFA_end',by=['patient_id','encounter_id'], direction ='nearest')\n",
    "    test = pd.merge_asof(test,python_SOFA_review,left_on='MIMIC_suspected_infection_time',right_on='score_time',by=['patient_id','encounter_id'], direction ='nearest')\n",
    "    \n",
    "    test['SOI_to_SOFA_MIMIC'] = (test['SOFA_end'] - test['MIMIC_suspected_infection_time']).apply(lambda z: z.total_seconds()/3600)\n",
    "    test['SOI_to_SOFA_python'] = (test['score_time'] - test['MIMIC_suspected_infection_time']).apply(lambda z: z.total_seconds()/3600)\n",
    "    \n",
    "    crit_1 = test['SOI_to_SOFA_MIMIC'] >23\n",
    "    crit_2 = test['SOI_to_SOFA_python'] >24\n",
    "    \n",
    "    explained = test[crit_1&crit_2][['patient_id','encounter_id']]\n",
    "    \n",
    "    explanations['Sepsis by SQL but not Python issue 1'] = ['SQL Finds Sepsis due to slight difference in timing',len(explained) + 1]\n",
    "    \n",
    "    print(len(explained))\n",
    "    \n",
    "    "
   ]
  },
  {
   "cell_type": "code",
   "execution_count": null,
   "metadata": {
    "scrolled": true
   },
   "outputs": [],
   "source": [
    "sample = sample[~sample['encounter_id'].isin(explained['encounter_id'])].reset_index(drop=True)\n",
    "print(len(sample))"
   ]
  },
  {
   "cell_type": "code",
   "execution_count": null,
   "metadata": {},
   "outputs": [],
   "source": [
    "#review(1)"
   ]
  },
  {
   "cell_type": "code",
   "execution_count": null,
   "metadata": {},
   "outputs": [],
   "source": [
    "icu_stays_raw = pd.read_sql('SELECT * FROM mimic_derived.icustay_times',cnx)"
   ]
  },
  {
   "cell_type": "code",
   "execution_count": null,
   "metadata": {},
   "outputs": [],
   "source": [
    "icu_stays_raw"
   ]
  },
  {
   "cell_type": "code",
   "execution_count": null,
   "metadata": {},
   "outputs": [],
   "source": [
    "icu_stays_raw= icu_stays_raw[['stay_id','intime_hr','outtime_hr']]"
   ]
  },
  {
   "cell_type": "code",
   "execution_count": null,
   "metadata": {},
   "outputs": [],
   "source": [
    "test = pd.merge(MSep_3[MSep_3['encounter_id'].isin(sample['encounter_id'])],icu_stays_raw ,on='stay_id',how='left')"
   ]
  },
  {
   "cell_type": "code",
   "execution_count": null,
   "metadata": {},
   "outputs": [],
   "source": [
    "test['intime_hr'] = pd.to_datetime(test['intime_hr'],utc=True)\n",
    "test['outtime_hr'] = pd.to_datetime(test['outtime_hr'],utc=True)\n",
    "test['sofa_time'] = pd.to_datetime(test['sofa_time'],utc=True)"
   ]
  },
  {
   "cell_type": "code",
   "execution_count": null,
   "metadata": {},
   "outputs": [],
   "source": []
  },
  {
   "cell_type": "code",
   "execution_count": null,
   "metadata": {},
   "outputs": [],
   "source": [
    "# mimic uses a SOFA score outside of the ICU time\n",
    "crit_1 = test['sofa_time'] >= test['intime_hr']\n",
    "crit_2 = test['sofa_time'] <= test['outtime_hr']\n",
    "\n",
    "sample = test[(crit_1 & crit_2)][['patient_id','encounter_id']].reset_index(drop=True)\n",
    "\n",
    "explanations['Sepsis by SQL but not Python issue 2'] = ['mimic uses a SOFA score outside of the ICU time', len(test[~(crit_1 & crit_2)])]"
   ]
  },
  {
   "cell_type": "code",
   "execution_count": null,
   "metadata": {},
   "outputs": [],
   "source": [
    "#review(0)"
   ]
  },
  {
   "cell_type": "code",
   "execution_count": null,
   "metadata": {},
   "outputs": [],
   "source": [
    "#this one is just unlucky\n",
    "if len(sample) >0:\n",
    "\n",
    "    assert len(sample) == 1"
   ]
  },
  {
   "cell_type": "markdown",
   "metadata": {},
   "source": [
    "### SOI by Python before SQL"
   ]
  },
  {
   "cell_type": "code",
   "execution_count": null,
   "metadata": {},
   "outputs": [],
   "source": [
    "sample = dfs_for_review['Python SOI Before SQL'].reset_index(drop=True)\n",
    "len(sample)"
   ]
  },
  {
   "cell_type": "code",
   "execution_count": null,
   "metadata": {},
   "outputs": [],
   "source": [
    "review_soi = SOI_full[SOI_full['encounter_id'].isin(sample['encounter_id'])].reset_index()"
   ]
  },
  {
   "cell_type": "code",
   "execution_count": null,
   "metadata": {},
   "outputs": [],
   "source": [
    "review_soi['abx_to_cx'] = (review_soi['culture_time'] - review_soi['abx_start']).apply(lambda z: z.total_seconds()/3600)"
   ]
  },
  {
   "cell_type": "code",
   "execution_count": null,
   "metadata": {},
   "outputs": [],
   "source": [
    "# abx and cultures at the same time\n",
    "explained = review_soi[review_soi['abx_to_cx']==0][['patient_id','encounter_id']]\n",
    "\n",
    "explanations['SOI by Python before SQL issue 1'] = ['abx and cultures at the same time',len(explained)]\n",
    "len(explained)"
   ]
  },
  {
   "cell_type": "code",
   "execution_count": null,
   "metadata": {},
   "outputs": [],
   "source": [
    "sample = sample[~sample['encounter_id'].isin(explained['encounter_id'])].reset_index(drop=True)\n",
    "len(sample)"
   ]
  },
  {
   "cell_type": "code",
   "execution_count": null,
   "metadata": {},
   "outputs": [],
   "source": [
    "review_soi = SOI_full[SOI_full['encounter_id'].isin(sample['encounter_id'])].reset_index(drop=True)"
   ]
  },
  {
   "cell_type": "code",
   "execution_count": null,
   "metadata": {},
   "outputs": [],
   "source": [
    "raw_abxdf['subject_id'] = raw_abxdf['subject_id'].astype(int).astype(str)\n",
    "raw_abxdf['starttime'] = pd.to_datetime(raw_abxdf['starttime'],utc=True)\n",
    "\n",
    "\n",
    "test = pd.merge(review_soi[['patient_id','encounter_id','antibiotic_name','abx_start']],raw_abxdf,left_on= ['patient_id','antibiotic_name','abx_start'], right_on = ['subject_id','antibiotic','starttime'],how='left')"
   ]
  },
  {
   "cell_type": "code",
   "execution_count": null,
   "metadata": {},
   "outputs": [],
   "source": [
    "explanations['SOI by Python before SQL issue 2'] = ['abx from a different encounter',len(test[test['hadm_id'].astype(str) != test['encounter_id'].astype(str)])]\n",
    "\n",
    "explained = explained.append(test[test['hadm_id'].astype(str) != test['encounter_id'].astype(str)][['patient_id','encounter_id']],ignore_index=True)"
   ]
  },
  {
   "cell_type": "code",
   "execution_count": null,
   "metadata": {},
   "outputs": [],
   "source": [
    "sample = sample[~sample['encounter_id'].isin(explained['encounter_id'])]"
   ]
  },
  {
   "cell_type": "code",
   "execution_count": null,
   "metadata": {},
   "outputs": [],
   "source": [
    "assert len(sample) == 0 "
   ]
  },
  {
   "cell_type": "markdown",
   "metadata": {},
   "source": [
    "### Sepsis by Python but not SQL"
   ]
  },
  {
   "cell_type": "code",
   "execution_count": null,
   "metadata": {},
   "outputs": [],
   "source": [
    "sample = dfs_for_review['Septic by Python Only'].reset_index()\n",
    "len(sample)"
   ]
  },
  {
   "cell_type": "code",
   "execution_count": null,
   "metadata": {},
   "outputs": [],
   "source": [
    "#review(0)"
   ]
  },
  {
   "cell_type": "code",
   "execution_count": null,
   "metadata": {},
   "outputs": [],
   "source": [
    "#review(1)"
   ]
  },
  {
   "cell_type": "code",
   "execution_count": null,
   "metadata": {},
   "outputs": [],
   "source": [
    "SOI_review = MIMIC_SOI[MIMIC_SOI['encounter_id'].isin(sample['encounter_id'])].reset_index().sort_values(by='MIMIC_suspected_infection_time')"
   ]
  },
  {
   "cell_type": "code",
   "execution_count": null,
   "metadata": {},
   "outputs": [],
   "source": [
    "MIMIC_SOFA_review = MIMIC_SOFA[MIMIC_SOFA['encounter_id'].isin(sample['encounter_id'])].reset_index(drop=True)[['patient_id','encounter_id','SOFA_end','sofa_24hours']]\n",
    "MIMIC_SOFA_review = MIMIC_SOFA_review[MIMIC_SOFA_review['sofa_24hours']>=2].sort_values(by='SOFA_end')\n",
    "\n",
    "python_SOFA_review = python_SOFA[python_SOFA['encounter_id'].isin(sample['encounter_id'])].dropna().reset_index(drop=True).sort_values(by='score_time')[['patient_id','encounter_id','score_time','SOFA_Score']]\n",
    "python_SOFA_review = python_SOFA_review [python_SOFA_review ['SOFA_Score']>=2].sort_values(by='score_time')"
   ]
  },
  {
   "cell_type": "code",
   "execution_count": null,
   "metadata": {},
   "outputs": [],
   "source": [
    "test = pd.merge(SOI_review,MIMIC_SOFA_review,on=['patient_id','encounter_id'],how='inner')"
   ]
  },
  {
   "cell_type": "code",
   "execution_count": null,
   "metadata": {},
   "outputs": [],
   "source": [
    "test['SOFA_to_SOI']=(test['SOFA_end'] - test['MIMIC_suspected_infection_time']).apply(lambda z: z.total_seconds()/3600)"
   ]
  },
  {
   "cell_type": "code",
   "execution_count": null,
   "metadata": {},
   "outputs": [],
   "source": [
    "crit_1 = test['SOFA_to_SOI']<-48\n",
    "crit_2 = test['SOFA_to_SOI']>24\n",
    "\n",
    "explanations['Sepsis by Python not SQL issue 1'] = ['information prior to ICU not Considered by SQL',len(sample) - len(test[~(crit_1|crit_2)][['patient_id','encounter_id']].drop_duplicates().reset_index()) ]\n",
    "\n",
    "sample = test[~(crit_1|crit_2)][['patient_id','encounter_id']].drop_duplicates().reset_index()"
   ]
  },
  {
   "cell_type": "code",
   "execution_count": null,
   "metadata": {},
   "outputs": [],
   "source": [
    "len(sample)"
   ]
  },
  {
   "cell_type": "code",
   "execution_count": null,
   "metadata": {},
   "outputs": [],
   "source": [
    "#review(1)"
   ]
  },
  {
   "cell_type": "code",
   "execution_count": null,
   "metadata": {},
   "outputs": [],
   "source": [
    "raw_MIMIC_SOI = data['SOI'].copy()"
   ]
  },
  {
   "cell_type": "code",
   "execution_count": null,
   "metadata": {},
   "outputs": [],
   "source": [
    "raw_MIMIC_SOI = raw_MIMIC_SOI[['subject_id','stay_id','suspected_infection_time']].rename(columns={'subject_id':'patient_id','suspected_infection_time':'MIMIC_suspected_infection_time'})\n",
    "raw_MIMIC_SOI['MIMIC_suspected_infection_time'] = pd.to_datetime(raw_MIMIC_SOI['MIMIC_suspected_infection_time'],utc=True)"
   ]
  },
  {
   "cell_type": "code",
   "execution_count": null,
   "metadata": {},
   "outputs": [],
   "source": [
    "SOI_review = MIMIC_SOI[MIMIC_SOI['encounter_id'].isin(sample['encounter_id'])].reset_index().sort_values(by='MIMIC_suspected_infection_time')"
   ]
  },
  {
   "cell_type": "code",
   "execution_count": null,
   "metadata": {},
   "outputs": [],
   "source": [
    "test = pd.merge(raw_MIMIC_SOI,SOI_review,on = ['patient_id','MIMIC_suspected_infection_time'],how='inner')\n"
   ]
  },
  {
   "cell_type": "code",
   "execution_count": null,
   "metadata": {},
   "outputs": [],
   "source": [
    "test"
   ]
  },
  {
   "cell_type": "markdown",
   "metadata": {},
   "source": [
    "#### SOFA CODE at ISSUE:\n",
    "\n",
    "FROM `physionet-data.mimic_derived.suspicion_of_infection` as soi <br>\n",
    "  INNER JOIN sofa<br>\n",
    "    ON soi.stay_id = sofa.stay_id<br>\n",
    "    AND sofa.endtime >= DATETIME_SUB(soi.suspected_infection_time, INTERVAL '48' HOUR)<br>\n",
    "    AND sofa.endtime <= DATETIME_ADD(soi.suspected_infection_time, INTERVAL '24' HOUR)<br>\n",
    "  -- only include in-ICU rows<br>\n",
    "  WHERE soi.stay_id is not null<br>"
   ]
  },
  {
   "cell_type": "code",
   "execution_count": null,
   "metadata": {},
   "outputs": [],
   "source": [
    "#Stay ID is Null\n",
    "\n",
    "explanations['Sepsis by Python not SQL issue 2'] = ['Stay ID is Null' ,len(sample) - len(sample[sample['encounter_id'].isin(test[~test['stay_id'].isna()]['encounter_id'])].reset_index()) ]\n",
    "\n",
    "sample = sample[sample['encounter_id'].isin(test[~test['stay_id'].isna()]['encounter_id'])].reset_index()"
   ]
  },
  {
   "cell_type": "code",
   "execution_count": null,
   "metadata": {},
   "outputs": [],
   "source": [
    "len(sample)"
   ]
  },
  {
   "cell_type": "code",
   "execution_count": null,
   "metadata": {},
   "outputs": [],
   "source": [
    "#Stay IDs do Not match\n",
    "\n",
    "test = test[~test['stay_id'].isna()]"
   ]
  },
  {
   "cell_type": "code",
   "execution_count": null,
   "metadata": {},
   "outputs": [],
   "source": [
    "raw_MIMIC_RTI = data['SOFA'].copy()"
   ]
  },
  {
   "cell_type": "code",
   "execution_count": null,
   "metadata": {},
   "outputs": [],
   "source": [
    "raw_MIMIC_RTI = raw_MIMIC_RTI[['subject_id','hadm_id','stay_id','endtime','sofa_24hours']].rename(columns ={'subject_id':'patient_id','hadm_id':'encounter_id','endtime':'score_time','stay_id':'stay_id_rti'})\n",
    "raw_MIMIC_RTI['patient_id'] = raw_MIMIC_RTI['patient_id'].astype(int).astype(str)\n",
    "raw_MIMIC_RTI['encounter_id'] = raw_MIMIC_RTI['encounter_id'].astype(int).astype(str)\n",
    "raw_MIMIC_RTI['stay_id_rti'] = raw_MIMIC_RTI['stay_id_rti'].astype(int).astype(str)\n",
    "\n",
    "raw_MIMIC_RTI['score_time'] = pd.to_datetime(raw_MIMIC_RTI['score_time'],utc=True)\n"
   ]
  },
  {
   "cell_type": "code",
   "execution_count": null,
   "metadata": {},
   "outputs": [],
   "source": [
    "test = test[['patient_id','encounter_id','stay_id','MIMIC_suspected_infection_time']].rename(columns ={'stay_id':'stay_id_soi'})\n",
    "test['patient_id'] = test['patient_id'].astype(int).astype(str)\n",
    "test['encounter_id'] = test['encounter_id'].astype(int).astype(str)\n",
    "test['stay_id_soi'] = test['stay_id_soi'].astype(int).astype(str)\n",
    "\n",
    "test['MIMIC_suspected_infection_time'] = pd.to_datetime(test['MIMIC_suspected_infection_time'],utc=True)"
   ]
  },
  {
   "cell_type": "code",
   "execution_count": null,
   "metadata": {},
   "outputs": [],
   "source": []
  },
  {
   "cell_type": "code",
   "execution_count": null,
   "metadata": {},
   "outputs": [],
   "source": []
  },
  {
   "cell_type": "code",
   "execution_count": null,
   "metadata": {},
   "outputs": [],
   "source": [
    "df = pd.merge(test,raw_MIMIC_RTI,on=['patient_id','encounter_id'], how= 'left')"
   ]
  },
  {
   "cell_type": "code",
   "execution_count": null,
   "metadata": {},
   "outputs": [],
   "source": [
    "df['SOI to Score'] = (df['score_time'] - df['MIMIC_suspected_infection_time']).apply(lambda z: z.total_seconds()/3600)"
   ]
  },
  {
   "cell_type": "code",
   "execution_count": null,
   "metadata": {},
   "outputs": [],
   "source": [
    "match = df[df['stay_id_soi'] == df['stay_id_rti']]"
   ]
  },
  {
   "cell_type": "code",
   "execution_count": null,
   "metadata": {},
   "outputs": [],
   "source": [
    "dont_match = df[df['stay_id_soi'] != df['stay_id_rti']]"
   ]
  },
  {
   "cell_type": "code",
   "execution_count": null,
   "metadata": {},
   "outputs": [],
   "source": [
    "crit_1 = match['SOI to Score'] >= -48\n",
    "crit_2 = match['SOI to Score'] <= 24\n",
    "\n",
    "match = match[crit_1 & crit_2]\n",
    "\n",
    "match[match['sofa_24hours']>=2]"
   ]
  },
  {
   "cell_type": "code",
   "execution_count": null,
   "metadata": {},
   "outputs": [],
   "source": [
    "match"
   ]
  },
  {
   "cell_type": "code",
   "execution_count": null,
   "metadata": {},
   "outputs": [],
   "source": [
    "crit_1 =dont_match['SOI to Score'] >= -48\n",
    "crit_2 = dont_match['SOI to Score'] <= 24\n",
    "\n",
    "dont_match = dont_match[crit_1 & crit_2]\n",
    "dont_match = dont_match[dont_match['sofa_24hours']>=2]\n",
    "\n",
    "\n",
    "explanations['Sepsis by Python not SQL issue 3'] = ['Stay ID does not match qualifing SOFA' ,len(sample)]"
   ]
  },
  {
   "cell_type": "code",
   "execution_count": null,
   "metadata": {},
   "outputs": [],
   "source": [
    "assert len(sample[~sample['encounter_id'].isin(dont_match['encounter_id'])]) == 0"
   ]
  },
  {
   "cell_type": "code",
   "execution_count": null,
   "metadata": {},
   "outputs": [],
   "source": [
    "explain = pd.DataFrame(explanations).T.reset_index().rename(columns={'index':'Difference',0:'Problem Identified',1:'Count'})"
   ]
  },
  {
   "cell_type": "code",
   "execution_count": null,
   "metadata": {},
   "outputs": [],
   "source": [
    "explain"
   ]
  },
  {
   "cell_type": "code",
   "execution_count": null,
   "metadata": {},
   "outputs": [],
   "source": [
    "54 + 33 +26 +389 + 5 +12"
   ]
  },
  {
   "cell_type": "code",
   "execution_count": null,
   "metadata": {},
   "outputs": [],
   "source": [
    "33"
   ]
  },
  {
   "cell_type": "code",
   "execution_count": null,
   "metadata": {},
   "outputs": [],
   "source": [
    "54 + 389"
   ]
  },
  {
   "cell_type": "code",
   "execution_count": null,
   "metadata": {},
   "outputs": [],
   "source": [
    "3188 +147"
   ]
  },
  {
   "cell_type": "markdown",
   "metadata": {},
   "source": [
    "### Determine Sepsis Caused by Inapproproate Cx or Abx"
   ]
  },
  {
   "cell_type": "code",
   "execution_count": null,
   "metadata": {},
   "outputs": [],
   "source": [
    "#inappropriate_abx[['antibiotic_name','route','route_corrected']]"
   ]
  },
  {
   "cell_type": "markdown",
   "metadata": {},
   "source": [
    "#### Abx"
   ]
  },
  {
   "cell_type": "markdown",
   "metadata": {},
   "source": [
    "#### SQL"
   ]
  },
  {
   "cell_type": "code",
   "execution_count": null,
   "metadata": {},
   "outputs": [],
   "source": [
    "all_abx = data['abxdf'][['subject_id','hadm_id','antibiotic','route','starttime']].rename(columns={'starttime':'antibiotic_time'})\n",
    "all_abx['antibiotic_time'] = pd.to_datetime(all_abx['antibiotic_time'],utc=True)\n",
    "\n",
    "mimic_qualifying_abx = data['SOI'][['subject_id','hadm_id','antibiotic','antibiotic_time']].reset_index(drop=True)\n",
    "mimic_qualifying_abx['antibiotic_time'] = pd.to_datetime(mimic_qualifying_abx['antibiotic_time'],utc=True)\n",
    "\n",
    "mimic_qualifying_abx = pd.merge(mimic_qualifying_abx,all_abx,on=['subject_id','hadm_id','antibiotic','antibiotic_time'],how='left')\n",
    "\n",
    "cond_1 = mimic_qualifying_abx['antibiotic'].isin(inappropriate_abx['antibiotic_name'])\n",
    "cond_2 = mimic_qualifying_abx['route'].isin(inappropriate_abx['route'])\n",
    "\n",
    "\n",
    "mimic_qualifying_abx = mimic_qualifying_abx[cond_1 & cond_2]\n",
    "\n",
    "data['Sepsis3']['antibiotic_time'] = pd.to_datetime(data['Sepsis3']['antibiotic_time'],utc=True)\n",
    "included_on_inappropriate_abx = pd.merge(data['Sepsis3'],mimic_qualifying_abx,on=['subject_id','hadm_id','antibiotic_time'],how='inner')"
   ]
  },
  {
   "cell_type": "code",
   "execution_count": null,
   "metadata": {},
   "outputs": [],
   "source": [
    "SQL_bad_abx = included_on_inappropriate_abx.groupby(['antibiotic','route'])['hadm_id'].count().reset_index().rename(columns={'hadm_id':'Number Included by SQL Pipeline'}).sort_values(by='Number Included by SQL Pipeline',ascending=False)"
   ]
  },
  {
   "cell_type": "code",
   "execution_count": null,
   "metadata": {},
   "outputs": [],
   "source": [
    "SQL_bad_abx['Percent Encounters Affected in SQL Pipeline'] =  round(SQL_bad_abx['Number Included by SQL Pipeline'] *100 /len(data['Sepsis3']),2)"
   ]
  },
  {
   "cell_type": "markdown",
   "metadata": {},
   "source": [
    "#### Python"
   ]
  },
  {
   "cell_type": "code",
   "execution_count": null,
   "metadata": {},
   "outputs": [],
   "source": [
    "python_abx_SOI = pd.merge(SOI_full[['patient_id','encounter_id','antibiotic_name','abx_start','SOITime']],abxdf[['patient_id','antibiotic_name','abx_start','route']],on=['patient_id','antibiotic_name','abx_start'],how='left')"
   ]
  },
  {
   "cell_type": "code",
   "execution_count": null,
   "metadata": {},
   "outputs": [],
   "source": [
    "cond_1 = python_abx_SOI['antibiotic_name'].isin(inappropriate_abx['antibiotic_name'])\n",
    "cond_2 = python_abx_SOI['route'].isin(inappropriate_abx['route'])\n",
    "\n",
    "python_abx_SOI_bad  = python_abx_SOI[cond_1 & cond_2]"
   ]
  },
  {
   "cell_type": "code",
   "execution_count": null,
   "metadata": {},
   "outputs": [],
   "source": [
    "python_abx_Sepsis_bad = pd.merge(Sep_3,python_abx_SOI_bad,on=['patient_id','encounter_id','SOITime'],how='inner')"
   ]
  },
  {
   "cell_type": "code",
   "execution_count": null,
   "metadata": {},
   "outputs": [],
   "source": [
    "python_abx_Sepsis_bad"
   ]
  },
  {
   "cell_type": "code",
   "execution_count": null,
   "metadata": {},
   "outputs": [],
   "source": [
    "python_bad_abx=python_abx_Sepsis_bad.groupby(['antibiotic_name','route'])['encounter_id'].count().reset_index().rename(columns={'encounter_id':'Number Included by Python Pipeline'}).sort_values(by='Number Included by Python Pipeline',ascending=False).rename(columns={'antibiotic_name':'antibiotic'})"
   ]
  },
  {
   "cell_type": "code",
   "execution_count": null,
   "metadata": {},
   "outputs": [],
   "source": [
    "python_bad_abx['Percent Encounters Affected in Python Pipeline'] =  round(python_bad_abx['Number Included by Python Pipeline'] *100 /len(Sep_3),2)"
   ]
  },
  {
   "cell_type": "markdown",
   "metadata": {},
   "source": [
    "### Compare "
   ]
  },
  {
   "cell_type": "code",
   "execution_count": null,
   "metadata": {},
   "outputs": [],
   "source": [
    "Mupirocin  = ['Mupirocin Ointment 2%','Mupirocin Nasal Ointment 2%','Mupirocin ','Mupirocin Ointment 2%']\n",
    "Nitrofurantoin = ['Nitrofurantoin Monohyd (MacroBID)','Nitrofurantoin (Macrodantin)']\n",
    "Vanc = ['Vancomycin','Vancomycin Antibiotic Lock']\n",
    "Neomycin = ['Neomycin/Polymyxin B Sulfate','Neomycin/Polymyxin B Sulfate','Neomycin-Polymyxin B GU']\n",
    "IRR = ['IR','IRR']\n",
    "NU = ['NU','IN']"
   ]
  },
  {
   "cell_type": "code",
   "execution_count": null,
   "metadata": {},
   "outputs": [],
   "source": [
    "compare_bad_abx = pd.merge(python_bad_abx,SQL_bad_abx,on=['antibiotic','route'],how='outer').fillna(0)"
   ]
  },
  {
   "cell_type": "code",
   "execution_count": null,
   "metadata": {},
   "outputs": [],
   "source": [
    "compare_bad_abx.loc[compare_bad_abx['antibiotic'].isin(Mupirocin),'antibiotic']= 'Mupirocin'\n",
    "compare_bad_abx.loc[compare_bad_abx['antibiotic'].isin(Nitrofurantoin),'antibiotic']= 'Nitrofurantoin'\n",
    "compare_bad_abx.loc[compare_bad_abx['antibiotic'].isin(Vanc),'antibiotic']= 'Vancomycin'\n",
    "compare_bad_abx.loc[compare_bad_abx['antibiotic'].isin(Neomycin),'antibiotic']= 'Neomycin/Polymyxin'\n",
    "compare_bad_abx.loc[compare_bad_abx['route'].isin(IRR),'route']= 'Irrigation'\n",
    "compare_bad_abx.loc[compare_bad_abx['route'].isin(NU),'route']= 'Nasal'\n",
    "compare_bad_abx.loc[compare_bad_abx['route']=='LOCK','route']= 'Dwell'\n",
    "compare_bad_abx.loc[compare_bad_abx['route']=='IH','route']= 'Inhaled'\n",
    "compare_bad_abx.loc[compare_bad_abx['route']=='PO','route']= 'By Mouth'"
   ]
  },
  {
   "cell_type": "code",
   "execution_count": null,
   "metadata": {},
   "outputs": [],
   "source": [
    "compare_bad_abx = compare_bad_abx.groupby(['antibiotic','route']).agg({'Number Included by Python Pipeline':'sum', 'Percent Encounters Affected in Python Pipeline':'sum', 'Number Included by SQL Pipeline':'sum', 'Percent Encounters Affected in SQL Pipeline':'sum'}).reset_index()"
   ]
  },
  {
   "cell_type": "code",
   "execution_count": null,
   "metadata": {},
   "outputs": [],
   "source": [
    "compare_bad_abx['antibiotic'] = compare_bad_abx['antibiotic'].apply(lambda z: z.title())"
   ]
  },
  {
   "cell_type": "code",
   "execution_count": null,
   "metadata": {},
   "outputs": [],
   "source": [
    "compare_bad_abx = compare_bad_abx.sort_values(by=[ 'Number Included by SQL Pipeline', 'Percent Encounters Affected in SQL Pipeline','Number Included by Python Pipeline', 'Percent Encounters Affected in Python Pipeline'],ascending=False).reset_index(drop=True)"
   ]
  },
  {
   "cell_type": "code",
   "execution_count": null,
   "metadata": {},
   "outputs": [],
   "source": [
    "compare_bad_abx"
   ]
  },
  {
   "cell_type": "markdown",
   "metadata": {},
   "source": [
    "#### Cx"
   ]
  },
  {
   "cell_type": "markdown",
   "metadata": {},
   "source": [
    "#### SQL"
   ]
  },
  {
   "cell_type": "code",
   "execution_count": null,
   "metadata": {},
   "outputs": [],
   "source": [
    "mimic_qualifying_cx = data['SOI'][['subject_id','hadm_id','specimen','culture_time']].reset_index(drop=True)\n",
    "mimic_qualifying_cx['culture_time'] = pd.to_datetime(mimic_qualifying_cx['culture_time'],utc=True)\n",
    "\n",
    "badcx = mimic_qualifying_cx[mimic_qualifying_cx['specimen'].isin(inappropriate_cx['culture_type'])]\n",
    "\n",
    "data['Sepsis3']['culture_time'] = pd.to_datetime(data['Sepsis3']['culture_time'],utc=True)\n",
    "\n",
    "included_on_inappropriate_cx = pd.merge(data['Sepsis3'],badcx,on=['subject_id','hadm_id','culture_time'],how='inner')"
   ]
  },
  {
   "cell_type": "code",
   "execution_count": null,
   "metadata": {},
   "outputs": [],
   "source": [
    "SQL_bad_cx = included_on_inappropriate_cx.groupby('specimen')['hadm_id'].count().reset_index().rename(columns={'hadm_id':'Number Included by SQL Pipeline'}).sort_values(by='Number Included by SQL Pipeline',ascending=False)"
   ]
  },
  {
   "cell_type": "code",
   "execution_count": null,
   "metadata": {},
   "outputs": [],
   "source": [
    "SQL_bad_cx['Percent Encounters Affected in SQL Pipeline'] =  round(SQL_bad_cx['Number Included by SQL Pipeline'] *100 /len(data['Sepsis3']),2)"
   ]
  },
  {
   "cell_type": "markdown",
   "metadata": {},
   "source": [
    "#### Python"
   ]
  },
  {
   "cell_type": "code",
   "execution_count": null,
   "metadata": {},
   "outputs": [],
   "source": [
    "python_soi_cx = SOI_full[['patient_id','encounter_id','culture_type','SOITime']]"
   ]
  },
  {
   "cell_type": "code",
   "execution_count": null,
   "metadata": {},
   "outputs": [],
   "source": [
    "python_soi_cx_bad = python_soi_cx[python_soi_cx['culture_type'].isin(inappropriate_cx['culture_type'])]"
   ]
  },
  {
   "cell_type": "code",
   "execution_count": null,
   "metadata": {},
   "outputs": [],
   "source": [
    "python_sepsis_cx_bad = pd.merge(Sep_3,python_soi_cx_bad,on=['patient_id','encounter_id','SOITime'],how='inner')"
   ]
  },
  {
   "cell_type": "code",
   "execution_count": null,
   "metadata": {},
   "outputs": [],
   "source": [
    "python_bad_cx = python_sepsis_cx_bad.groupby('culture_type')['encounter_id'].count().reset_index().rename(columns={'encounter_id':'Number Included by Python Pipeline'}).sort_values(by='Number Included by Python Pipeline',ascending=False).rename(columns={'culture_type':'specimen'})"
   ]
  },
  {
   "cell_type": "code",
   "execution_count": null,
   "metadata": {},
   "outputs": [],
   "source": [
    "python_bad_cx['Percent Encounters Affected in Python Pipeline'] =  round(python_bad_cx['Number Included by Python Pipeline'] *100 /len(Sep_3),2)"
   ]
  },
  {
   "cell_type": "markdown",
   "metadata": {},
   "source": [
    "#### Compare"
   ]
  },
  {
   "cell_type": "code",
   "execution_count": null,
   "metadata": {},
   "outputs": [],
   "source": [
    "compare_bad_cx = pd.merge(SQL_bad_cx,python_bad_cx,on='specimen',how='outer').fillna(0)\n",
    "compare_bad_cx['specimen'] = compare_bad_cx['specimen'].apply(lambda z: z.title())"
   ]
  },
  {
   "cell_type": "code",
   "execution_count": null,
   "metadata": {},
   "outputs": [],
   "source": [
    "MRSA  = ['Mrsa Screen','Staph Aureus Screen']\n",
    "Post_Mortem = ['Postmortem Culture','Blood Culture (Post-Mortem)']\n",
    "CMV_ab = ['Blood (Cmv Ab)','Immunology (Cmv)']\n",
    "Throat = ['Throat For Strep','Throat Culture']"
   ]
  },
  {
   "cell_type": "code",
   "execution_count": null,
   "metadata": {},
   "outputs": [],
   "source": [
    "compare_bad_cx.loc[compare_bad_cx['specimen'].isin(MRSA),'specimen']= 'MRSA Screen'\n",
    "compare_bad_cx.loc[compare_bad_cx['specimen'].isin(Post_Mortem),'specimen']= 'Postmortem Culture'\n",
    "compare_bad_cx.loc[compare_bad_cx['specimen'].isin(CMV_ab),'specimen']= 'CMV Antibody'\n",
    "compare_bad_cx.loc[compare_bad_cx['specimen'].isin(Throat),'specimen']= 'Throat Culture'\n",
    "\n"
   ]
  },
  {
   "cell_type": "code",
   "execution_count": null,
   "metadata": {},
   "outputs": [],
   "source": [
    "compare_bad_cx.columns"
   ]
  },
  {
   "cell_type": "code",
   "execution_count": null,
   "metadata": {},
   "outputs": [],
   "source": [
    "compare_bad_cx = compare_bad_cx.groupby('specimen').agg({'Number Included by SQL Pipeline':'sum', 'Percent Encounters Affected in SQL Pipeline':'sum', 'Number Included by Python Pipeline':'sum', 'Percent Encounters Affected in Python Pipeline':'sum'}).reset_index()"
   ]
  },
  {
   "cell_type": "code",
   "execution_count": null,
   "metadata": {},
   "outputs": [],
   "source": [
    "compare_bad_cx = compare_bad_cx.rename(columns={'specimen':'Specimen'}).sort_values(by = ['Number Included by SQL Pipeline', 'Percent Encounters Affected in SQL Pipeline','Number Included by Python Pipeline', 'Percent Encounters Affected in Python Pipeline'],ascending=False).reset_index(drop=True)"
   ]
  },
  {
   "cell_type": "code",
   "execution_count": null,
   "metadata": {},
   "outputs": [],
   "source": [
    "compare_bad_cx"
   ]
  },
  {
   "cell_type": "code",
   "execution_count": null,
   "metadata": {},
   "outputs": [],
   "source": []
  },
  {
   "cell_type": "code",
   "execution_count": null,
   "metadata": {},
   "outputs": [],
   "source": []
  },
  {
   "cell_type": "code",
   "execution_count": null,
   "metadata": {},
   "outputs": [],
   "source": []
  },
  {
   "cell_type": "code",
   "execution_count": null,
   "metadata": {},
   "outputs": [],
   "source": []
  },
  {
   "cell_type": "code",
   "execution_count": null,
   "metadata": {},
   "outputs": [],
   "source": []
  }
 ],
 "metadata": {
  "kernelspec": {
   "display_name": "Python 3 (ipykernel)",
   "language": "python",
   "name": "python3"
  },
  "language_info": {
   "codemirror_mode": {
    "name": "ipython",
    "version": 3
   },
   "file_extension": ".py",
   "mimetype": "text/x-python",
   "name": "python",
   "nbconvert_exporter": "python",
   "pygments_lexer": "ipython3",
   "version": "3.10.4"
  }
 },
 "nbformat": 4,
 "nbformat_minor": 4
}
